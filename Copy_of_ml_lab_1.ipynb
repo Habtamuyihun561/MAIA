{
  "nbformat": 4,
  "nbformat_minor": 0,
  "metadata": {
    "colab": {
      "provenance": [],
      "include_colab_link": true
    },
    "kernelspec": {
      "name": "python3",
      "display_name": "Python 3"
    },
    "language_info": {
      "name": "python"
    }
  },
  "cells": [
    {
      "cell_type": "markdown",
      "metadata": {
        "id": "view-in-github",
        "colab_type": "text"
      },
      "source": [
        "<a href=\"https://colab.research.google.com/github/Habtamuyihun561/MAIA/blob/main/Copy_of_ml_lab_1.ipynb\" target=\"_parent\"><img src=\"https://colab.research.google.com/assets/colab-badge.svg\" alt=\"Open In Colab\"/></a>"
      ]
    },
    {
      "cell_type": "markdown",
      "source": [
        "# Chalenge 1\n",
        "Dataset loading,\n",
        "Dataset analysis,\n",
        "data set preparation,\n",
        "model creation ,\n",
        "model training ,\n",
        "modle evaluation\n"
      ],
      "metadata": {
        "id": "QTuqtLLhDpiP"
      }
    },
    {
      "cell_type": "code",
      "execution_count": null,
      "metadata": {
        "id": "SKtFB0JWDKy5"
      },
      "outputs": [],
      "source": [
        "import numpy as np\n",
        "import pandas as pd\n",
        "from matplotlib import pyplot as plt"
      ]
    },
    {
      "cell_type": "code",
      "source": [
        "from sklearn.datasets import load_iris\n",
        "iris=load_iris()\n",
        "data,target=iris.data,iris.target\n",
        "#print(data) #features\n",
        "#print(target) #label\n",
        "print(len(data))#check length of the data\n",
        "data.shape #shape of the data\n",
        "target.shape\n",
        "print(\"Data:\".format())"
      ],
      "metadata": {
        "id": "mpL0rE8jEnH9"
      },
      "execution_count": null,
      "outputs": []
    },
    {
      "cell_type": "code",
      "source": [
        "# Data set analysis using panda\n",
        "import pandas as pd\n",
        "iris_df=pd.DataFrame(data=iris.data, columns=iris.feature_names)\n",
        "print(iris_df)\n",
        "iris_df.describe()\n",
        "iris_df.info()\n"
      ],
      "metadata": {
        "id": "tP4YIzddGHVx"
      },
      "execution_count": null,
      "outputs": []
    },
    {
      "cell_type": "code",
      "source": [
        "import matplotlib.pyplot as plt\n"
      ],
      "metadata": {
        "id": "KHymkNs8GWHT"
      },
      "execution_count": null,
      "outputs": []
    },
    {
      "cell_type": "code",
      "source": [
        "# data preparation\n",
        "# Data is divide into trainign and testing data\n",
        "from sklearn.model_selection import train_test_split\n",
        "data_train, data_test, target_train,target_test=train_test_split(data,target,test_size=0.2, random_state=41)\n",
        "print(len(data_train))\n",
        "print(len(data_test))\n",
        "print(len(target_train))\n",
        "print(len(target_test))"
      ],
      "metadata": {
        "id": "fRw2QUMSGcxU"
      },
      "execution_count": null,
      "outputs": []
    },
    {
      "cell_type": "code",
      "source": [],
      "metadata": {
        "id": "O_FwyJlVQmkH"
      },
      "execution_count": null,
      "outputs": []
    },
    {
      "cell_type": "markdown",
      "source": [],
      "metadata": {
        "id": "uwrCjykZQmMe"
      }
    },
    {
      "cell_type": "code",
      "source": [
        "# Model Creation\n",
        "from sklearn.neighbors import KNeighborsClassifier\n",
        "from sklearn.metrics import accuracy_score, confusion_matrix\n",
        "\n",
        "model= KNeighborsClassifier(n_neighbors=3)\n",
        "# Training\n",
        "model.fit(data_train, target_train)\n",
        "\n",
        "#Testing\n",
        "\n",
        "predictions=model.predict(data_test)\n",
        "print(predictions)\n",
        "#Model Evaluation\n",
        "accuracy=accuracy_score(target_test,predictions)\n",
        "print(accuracy)\n",
        "confusion_matrix(target_test, predictions)\n",
        "\n"
      ],
      "metadata": {
        "id": "8ACdC9ojJp-Z"
      },
      "execution_count": null,
      "outputs": []
    },
    {
      "cell_type": "markdown",
      "source": [
        "Challenge 2, Breat cancer data set"
      ],
      "metadata": {
        "id": "HMRWxfa3TibA"
      }
    },
    {
      "cell_type": "code",
      "source": [
        "from sklearn.datasets import load_breast_cancer\n",
        "dataset = load_breast_cancer()\n",
        "data=dataset.data\n",
        "target=dataset.target\n",
        "#print(ldata)\n",
        "#print(target)\n",
        "print(len(data))\n",
        "print(len(target))\n",
        "#target=data.target[[10, 50, 85]]\n",
        "x_train,x_test, y_train,y_test= train_test_split(data,target, test_size=0.2, random_state=42)\n",
        "\n",
        "print(len(x_train))\n",
        "print(len(x_test))\n",
        "print(len(y_train))\n"
      ],
      "metadata": {
        "id": "1SRBnH4GQnur"
      },
      "execution_count": null,
      "outputs": []
    },
    {
      "cell_type": "code",
      "source": [
        "# Model Creation\n",
        "from sklearn import svm\n",
        "model= KNeighborsClassifier(n_neighbors=3)\n",
        "\n",
        "#Testing\n",
        "predictions=model.predict(x_test)\n",
        "print(predictions)\n",
        "# Model evaluation\n",
        "accuracy=accuracy_score(y_test,predictions)\n",
        "print(accuracy)\n",
        "confusion_matrix(y_test, predictions)"
      ],
      "metadata": {
        "id": "wZoM9aryUDYT"
      },
      "execution_count": null,
      "outputs": []
    },
    {
      "cell_type": "code",
      "source": [],
      "metadata": {
        "id": "D8RXaL9dVUoZ"
      },
      "execution_count": null,
      "outputs": []
    },
    {
      "cell_type": "code",
      "source": [
        "#Create a svm Classifier\n",
        "clf = svm.SVC(kernel='linear') # Linear Kernel\n",
        "\n",
        "#Train the model using the training sets\n",
        "clf.fit(x_train, y_train)\n",
        "\n",
        "#Predict the response for test dataset\n",
        "y_pred = clf.predict(x_test)\n",
        "# Training\n",
        "model.fit(x_train, y_train)\n",
        "accuracy=accuracy_score(y_test,y_pred)\n",
        "print(accuracy)\n"
      ],
      "metadata": {
        "id": "R7gsZY8LXatK"
      },
      "execution_count": null,
      "outputs": []
    },
    {
      "cell_type": "markdown",
      "source": [
        "#Machine Learning Lab 2: Feature Extraction and Cross Validation\n",
        "#Challenge 1"
      ],
      "metadata": {
        "id": "qf01-mtgBbzI"
      }
    },
    {
      "cell_type": "code",
      "source": [
        "# feature extraction\n",
        "import numpy as np\n",
        "import pandas as pd\n",
        "from sklearn.datasets import load_iris\n",
        "from sklearn.model_selection import train_test_split\n",
        "from sklearn.feature_selection import SelectKBest, chi2, RFE\n",
        "from sklearn.ensemble import RandomForestClassifier\n",
        "from sklearn.metrics import accuracy_score"
      ],
      "metadata": {
        "id": "aJvN-w7wBbPL"
      },
      "execution_count": null,
      "outputs": []
    },
    {
      "cell_type": "code",
      "source": [
        "# Step 1: Load the Iris dataset\n",
        "iris = load_iris()\n",
        "X = iris.data\n",
        "y = iris.target"
      ],
      "metadata": {
        "id": "iAB1RNW5DmTN"
      },
      "execution_count": null,
      "outputs": []
    },
    {
      "cell_type": "code",
      "source": [
        "# Step 2: Exploratory Data Analysis\n",
        "print(\"Feature Names:\", iris.feature_names)\n",
        "print(\"Target Names:\", iris.target_names)\n",
        "#print(X.shape)\n",
        "print(\"Number of samples:\", X.shape[0])\n",
        "print(\"Number of features:\", X.shape[1])"
      ],
      "metadata": {
        "id": "KlcbN7uODq1_"
      },
      "execution_count": null,
      "outputs": []
    },
    {
      "cell_type": "code",
      "source": [
        "# Step 3: Feature Selection\n",
        "# For demonstration, let's use SelectKBest with chi2 to select top 100 features\n",
        "#k_best = SelectKBest(score_func=chi2, k=100)\n",
        "#X_selected = k_best.fit_transform(X, y)\n",
        "\n",
        "# Print indices of selected features\n",
        "#selected_feature_indices = np.where(k_best.get_support())[0]\n",
        "#print(\"Indices of selected features:\", selected_feature_indices)"
      ],
      "metadata": {
        "id": "f3XTIxuQNiHv"
      },
      "execution_count": null,
      "outputs": []
    },
    {
      "cell_type": "code",
      "source": [
        "# Step 3: Feature Selection\n",
        "# Split data into training and testing sets\n",
        "\n",
        "X_train, X_test, y_train, y_test = train_test_split(X, y, test_size=0.2, random_state=42)\n",
        "\n",
        "# Feature Selection Technique 1: SelectKBest with chi2\n",
        "k_best = SelectKBest(score_func=chi2, k=2)\n",
        "X_train_kbest = k_best.fit_transform(X_train, y_train)\n",
        "selected_features_kbest = np.array(iris.feature_names)[k_best.get_support()]\n",
        "#print(\"number of samples\",selected_features_kbest.shape)\n",
        "\n",
        "\n",
        "# Feature Selection Technique 2: Recursive Feature Elimination (RFE) with Random Forest\n",
        "rf_classifier = RandomForestClassifier()\n",
        "rfe = RFE(estimator=rf_classifier, n_features_to_select=2, step=1)\n",
        "X_train_rfe = rfe.fit_transform(X_train, y_train)\n",
        "selected_features_rfe = np.array(iris.feature_names)[rfe.get_support()]"
      ],
      "metadata": {
        "colab": {
          "base_uri": "https://localhost:8080/"
        },
        "id": "Af3oeP_1DvMo",
        "outputId": "80ebdc67-d882-4685-acfd-2788ab2a662b"
      },
      "execution_count": null,
      "outputs": [
        {
          "output_type": "stream",
          "name": "stdout",
          "text": [
            "number of samples 2\n",
            "number of samples (2,)\n"
          ]
        }
      ]
    },
    {
      "cell_type": "code",
      "source": [
        "# Step 4: Train a classifier using the selected features\n",
        "# Train classifiers using selected features\n",
        "rf_classifier_all_features = RandomForestClassifier()\n",
        "rf_classifier_selected_features_kbest = RandomForestClassifier()\n",
        "rf_classifier_selected_features_rfe = RandomForestClassifier()\n",
        "\n",
        "# Train with all features\n",
        "rf_classifier_all_features.fit(X_train, y_train)\n",
        "\n",
        "# Train with selected features using SelectKBest\n",
        "rf_classifier_selected_features_kbest.fit(X_train_kbest, y_train)\n",
        "\n",
        "# Train with selected features using RFE\n",
        "rf_classifier_selected_features_rfe.fit(X_train_rfe, y_train)"
      ],
      "metadata": {
        "colab": {
          "base_uri": "https://localhost:8080/",
          "height": 74
        },
        "id": "LCChFA4GD2iA",
        "outputId": "c635ddbe-2b4d-4e02-dd62-ef1c579fcf50"
      },
      "execution_count": null,
      "outputs": [
        {
          "output_type": "execute_result",
          "data": {
            "text/plain": [
              "RandomForestClassifier()"
            ],
            "text/html": [
              "<style>#sk-container-id-2 {color: black;background-color: white;}#sk-container-id-2 pre{padding: 0;}#sk-container-id-2 div.sk-toggleable {background-color: white;}#sk-container-id-2 label.sk-toggleable__label {cursor: pointer;display: block;width: 100%;margin-bottom: 0;padding: 0.3em;box-sizing: border-box;text-align: center;}#sk-container-id-2 label.sk-toggleable__label-arrow:before {content: \"▸\";float: left;margin-right: 0.25em;color: #696969;}#sk-container-id-2 label.sk-toggleable__label-arrow:hover:before {color: black;}#sk-container-id-2 div.sk-estimator:hover label.sk-toggleable__label-arrow:before {color: black;}#sk-container-id-2 div.sk-toggleable__content {max-height: 0;max-width: 0;overflow: hidden;text-align: left;background-color: #f0f8ff;}#sk-container-id-2 div.sk-toggleable__content pre {margin: 0.2em;color: black;border-radius: 0.25em;background-color: #f0f8ff;}#sk-container-id-2 input.sk-toggleable__control:checked~div.sk-toggleable__content {max-height: 200px;max-width: 100%;overflow: auto;}#sk-container-id-2 input.sk-toggleable__control:checked~label.sk-toggleable__label-arrow:before {content: \"▾\";}#sk-container-id-2 div.sk-estimator input.sk-toggleable__control:checked~label.sk-toggleable__label {background-color: #d4ebff;}#sk-container-id-2 div.sk-label input.sk-toggleable__control:checked~label.sk-toggleable__label {background-color: #d4ebff;}#sk-container-id-2 input.sk-hidden--visually {border: 0;clip: rect(1px 1px 1px 1px);clip: rect(1px, 1px, 1px, 1px);height: 1px;margin: -1px;overflow: hidden;padding: 0;position: absolute;width: 1px;}#sk-container-id-2 div.sk-estimator {font-family: monospace;background-color: #f0f8ff;border: 1px dotted black;border-radius: 0.25em;box-sizing: border-box;margin-bottom: 0.5em;}#sk-container-id-2 div.sk-estimator:hover {background-color: #d4ebff;}#sk-container-id-2 div.sk-parallel-item::after {content: \"\";width: 100%;border-bottom: 1px solid gray;flex-grow: 1;}#sk-container-id-2 div.sk-label:hover label.sk-toggleable__label {background-color: #d4ebff;}#sk-container-id-2 div.sk-serial::before {content: \"\";position: absolute;border-left: 1px solid gray;box-sizing: border-box;top: 0;bottom: 0;left: 50%;z-index: 0;}#sk-container-id-2 div.sk-serial {display: flex;flex-direction: column;align-items: center;background-color: white;padding-right: 0.2em;padding-left: 0.2em;position: relative;}#sk-container-id-2 div.sk-item {position: relative;z-index: 1;}#sk-container-id-2 div.sk-parallel {display: flex;align-items: stretch;justify-content: center;background-color: white;position: relative;}#sk-container-id-2 div.sk-item::before, #sk-container-id-2 div.sk-parallel-item::before {content: \"\";position: absolute;border-left: 1px solid gray;box-sizing: border-box;top: 0;bottom: 0;left: 50%;z-index: -1;}#sk-container-id-2 div.sk-parallel-item {display: flex;flex-direction: column;z-index: 1;position: relative;background-color: white;}#sk-container-id-2 div.sk-parallel-item:first-child::after {align-self: flex-end;width: 50%;}#sk-container-id-2 div.sk-parallel-item:last-child::after {align-self: flex-start;width: 50%;}#sk-container-id-2 div.sk-parallel-item:only-child::after {width: 0;}#sk-container-id-2 div.sk-dashed-wrapped {border: 1px dashed gray;margin: 0 0.4em 0.5em 0.4em;box-sizing: border-box;padding-bottom: 0.4em;background-color: white;}#sk-container-id-2 div.sk-label label {font-family: monospace;font-weight: bold;display: inline-block;line-height: 1.2em;}#sk-container-id-2 div.sk-label-container {text-align: center;}#sk-container-id-2 div.sk-container {/* jupyter's `normalize.less` sets `[hidden] { display: none; }` but bootstrap.min.css set `[hidden] { display: none !important; }` so we also need the `!important` here to be able to override the default hidden behavior on the sphinx rendered scikit-learn.org. See: https://github.com/scikit-learn/scikit-learn/issues/21755 */display: inline-block !important;position: relative;}#sk-container-id-2 div.sk-text-repr-fallback {display: none;}</style><div id=\"sk-container-id-2\" class=\"sk-top-container\"><div class=\"sk-text-repr-fallback\"><pre>RandomForestClassifier()</pre><b>In a Jupyter environment, please rerun this cell to show the HTML representation or trust the notebook. <br />On GitHub, the HTML representation is unable to render, please try loading this page with nbviewer.org.</b></div><div class=\"sk-container\" hidden><div class=\"sk-item\"><div class=\"sk-estimator sk-toggleable\"><input class=\"sk-toggleable__control sk-hidden--visually\" id=\"sk-estimator-id-2\" type=\"checkbox\" checked><label for=\"sk-estimator-id-2\" class=\"sk-toggleable__label sk-toggleable__label-arrow\">RandomForestClassifier</label><div class=\"sk-toggleable__content\"><pre>RandomForestClassifier()</pre></div></div></div></div></div>"
            ]
          },
          "metadata": {},
          "execution_count": 41
        }
      ]
    },
    {
      "cell_type": "code",
      "source": [
        "# Step 5: Evaluate the performance of the model\n",
        "# Test on the testing set\n",
        "y_pred_all_features = rf_classifier_all_features.predict(X_test)\n",
        "accuracy_all_features = accuracy_score(y_test, y_pred_all_features)\n",
        "\n",
        "# Transform test set using selected features\n",
        "X_test_kbest = k_best.transform(X_test)\n",
        "X_test_rfe = rfe.transform(X_test)\n",
        "\n",
        "# Predictions using models with selected features\n",
        "y_pred_kbest = rf_classifier_selected_features_kbest.predict(X_test_kbest)\n",
        "accuracy_kbest = accuracy_score(y_test, y_pred_kbest)\n",
        "\n",
        "y_pred_rfe = rf_classifier_selected_features_rfe.predict(X_test_rfe)\n",
        "accuracy_rfe = accuracy_score(y_test, y_pred_rfe)"
      ],
      "metadata": {
        "id": "XsJx0rQxD84_"
      },
      "execution_count": null,
      "outputs": []
    },
    {
      "cell_type": "code",
      "source": [
        "# Step 6: Compare the performance\n",
        "print(\"Accuracy with all features:\", accuracy_all_features)\n",
        "print(\"Selected features using SelectKBest:\", selected_features_kbest)\n",
        "print(\"Accuracy with selected features using SelectKBest:\", accuracy_kbest)\n",
        "print(\"Selected features using RFE:\", selected_features_rfe)\n",
        "print(\"Accuracy with selected features using RFE:\", accuracy_rfe)"
      ],
      "metadata": {
        "id": "XVsxkbq-EFGQ"
      },
      "execution_count": null,
      "outputs": []
    },
    {
      "cell_type": "code",
      "source": [
        "import matplotlib.pyplot as plt\n",
        "\n",
        "# List of feature selection techniques\n",
        "feature_selection_methods = ['All Features', 'SelectKBest', 'RFE']\n",
        "\n",
        "# List of accuracies obtained for each feature selection technique\n",
        "accuracy_scores = [accuracy_all_features, accuracy_kbest, accuracy_rfe]\n",
        "\n",
        "# Plotting the bar chart\n",
        "plt.figure(figsize=(8, 6))\n",
        "plt.bar(feature_selection_methods, accuracy_scores, color='skyblue')\n",
        "plt.xlabel('Feature Selection Technique')\n",
        "plt.ylabel('Accuracy')\n",
        "plt.title('Performance Comparison of Feature Selection Techniques')\n",
        "plt.ylim(0.9, 1.0)  # Adjust ylim if needed\n",
        "plt.show()\n"
      ],
      "metadata": {
        "colab": {
          "base_uri": "https://localhost:8080/",
          "height": 564
        },
        "id": "LuNOMKCqRjnG",
        "outputId": "bd2bf04e-173f-4414-b319-9637763c32e8"
      },
      "execution_count": null,
      "outputs": [
        {
          "output_type": "display_data",
          "data": {
            "text/plain": [
              "<Figure size 800x600 with 1 Axes>"
            ],
            "image/png": "[encoded data removed]"
          },
          "metadata": {}
        }
      ]
    },
    {
      "cell_type": "markdown",
      "source": [
        "#Chalenge 2"
      ],
      "metadata": {
        "id": "IwAQ4DZbETrp"
      }
    },
    {
      "cell_type": "code",
      "source": [
        "from sklearn.model_selection import KFold\n",
        "from sklearn.metrics import accuracy_score\n",
        "from sklearn.ensemble import RandomForestClassifier\n",
        "import numpy as np"
      ],
      "metadata": {
        "id": "RgYRxlJ3EZhh"
      },
      "execution_count": null,
      "outputs": []
    },
    {
      "cell_type": "code",
      "source": [
        "# Assuming X and y are your feature matrix and target vector, respectively\n",
        "\n",
        "# Step 1: Splitting the dataset into k folds\n",
        "k = 5  # Number of folds\n",
        "kf = KFold(n_splits=k, shuffle=True, random_state=42)"
      ],
      "metadata": {
        "id": "qP3iMXVsGCU7"
      },
      "execution_count": null,
      "outputs": []
    },
    {
      "cell_type": "code",
      "source": [
        "# Step 2, 3, 4, 5: Cross-validation loop\n",
        "accuracy_scores = []\n",
        "for train_index, test_index in kf.split(X):\n",
        "    X_train, X_test = X[train_index], X[test_index]\n",
        "    y_train, y_test = y[train_index], y[test_index]\n",
        "\n",
        "    # Train your model\n",
        "    model = RandomForestClassifier()\n",
        "    model.fit(X_train, y_train)\n",
        "\n",
        "    # Evaluate the model\n",
        "    y_pred = model.predict(X_test)\n",
        "    accuracy = accuracy_score(y_test, y_pred)\n",
        "    accuracy_scores.append(accuracy)"
      ],
      "metadata": {
        "id": "sp75rzmwGGWl"
      },
      "execution_count": null,
      "outputs": []
    },
    {
      "cell_type": "code",
      "source": [
        "from sklearn.metrics import accuracy_score, precision_score, recall_score, f1_score\n",
        "\n",
        "# Initialize lists to store performance metrics for each fold\n",
        "accuracy_scores = []\n",
        "precision_scores = []\n",
        "recall_scores = []\n",
        "f1_scores = []\n",
        "\n",
        "# Loop over each fold in k-fold cross-validation\n",
        "for train_index, test_index in kf.split(X):\n",
        "    X_train, X_test = X[train_index], X[test_index]\n",
        "    y_train, y_test = y[train_index], y[test_index]\n",
        "\n",
        "    # Train your model\n",
        "    model = RandomForestClassifier()\n",
        "    model.fit(X_train, y_train)\n",
        "\n",
        "    # Evaluate the model on the test data\n",
        "    y_pred = model.predict(X_test)\n",
        "\n",
        "    # Calculate evaluation metrics\n",
        "    accuracy = accuracy_score(y_test, y_pred)\n",
        "    precision = precision_score(y_test, y_pred)\n",
        "    recall = recall_score(y_test, y_pred)\n",
        "    f1 = f1_score(y_test, y_pred)\n",
        "\n",
        "    # Append scores to respective lists\n",
        "    accuracy_scores.append(accuracy)\n",
        "    precision_scores.append(precision)\n",
        "    recall_scores.append(recall)\n",
        "    f1_scores.append(f1)\n",
        "\n",
        "# Calculate average scores\n",
        "avg_accuracy = np.mean(accuracy_scores)\n",
        "avg_precision = np.mean(precision_scores)\n",
        "avg_recall = np.mean(recall_scores)\n",
        "avg_f1 = np.mean(f1_scores)\n",
        "\n",
        "# Print average scores\n",
        "print(\"Average Accuracy:\", avg_accuracy)\n",
        "print(\"Average Precision:\", avg_precision)\n",
        "print(\"Average Recall:\", avg_recall)\n",
        "print(\"Average F1-score:\", avg_f1)\n"
      ],
      "metadata": {
        "id": "TCfkuYSvUw1J"
      },
      "execution_count": null,
      "outputs": []
    },
    {
      "cell_type": "code",
      "source": [
        "# Step 4: Average performance\n",
        "average_performance = np.mean(accuracy_scores)\n",
        "\n",
        "print(\"Average Accuracy:\", average_performance)"
      ],
      "metadata": {
        "id": "d6nHBpFHU4hA"
      },
      "execution_count": null,
      "outputs": []
    },
    {
      "cell_type": "markdown",
      "source": [
        "#Tria project on MNIST dataset"
      ],
      "metadata": {
        "id": "bKa81tS6LCPV"
      }
    },
    {
      "cell_type": "code",
      "source": [
        "from sklearn.datasets import fetch_openml\n",
        "\n",
        "# Load MNIST dataset\n",
        "mnist = fetch_openml('mnist_784')\n",
        "X = mnist.data\n",
        "y = mnist.target.astype(int)\n"
      ],
      "metadata": {
        "colab": {
          "base_uri": "https://localhost:8080/"
        },
        "id": "anHUXQFTK_-f",
        "outputId": "6b594b36-cd62-48fe-d0ea-abe75c1a330c"
      },
      "execution_count": null,
      "outputs": [
        {
          "output_type": "stream",
          "name": "stderr",
          "text": [
            "/usr/local/lib/python3.10/dist-packages/sklearn/datasets/_openml.py:968: FutureWarning: The default value of `parser` will change from `'liac-arff'` to `'auto'` in 1.4. You can set `parser='auto'` to silence this warning. Therefore, an `ImportError` will be raised from 1.4 if the dataset is dense and pandas is not installed. Note that the pandas parser may return different data types. See the Notes Section in fetch_openml's API doc for details.\n",
            "  warn(\n"
          ]
        }
      ]
    },
    {
      "cell_type": "code",
      "source": [
        "print(\"Number of samples:\", X.shape[0])\n",
        "print(\"Number of features:\", X.shape[1])\n"
      ],
      "metadata": {
        "id": "MVFptngBLXY-"
      },
      "execution_count": null,
      "outputs": []
    },
    {
      "cell_type": "markdown",
      "source": [
        "# Breat Cancer Dataset"
      ],
      "metadata": {
        "id": "IUEFoBAiSeoy"
      }
    },
    {
      "cell_type": "code",
      "source": [
        "from sklearn.datasets import load_breast_cancer\n",
        "from sklearn.model_selection import train_test_split\n",
        "from sklearn.feature_selection import SelectKBest, chi2, RFE\n",
        "from sklearn.ensemble import RandomForestClassifier\n",
        "from sklearn.metrics import accuracy_score"
      ],
      "metadata": {
        "id": "JavaWxLzSdT_"
      },
      "execution_count": null,
      "outputs": []
    },
    {
      "cell_type": "code",
      "source": [
        "# Step 1: Load the Breast Cancer dataset\n",
        "cancer = load_breast_cancer()\n",
        "X = cancer.data\n",
        "y = cancer.target"
      ],
      "metadata": {
        "id": "o-XkxGV3Si0U"
      },
      "execution_count": null,
      "outputs": []
    },
    {
      "cell_type": "code",
      "source": [
        "# Step 2: Exploratory Data Analysis\n",
        "print(\"Feature Names:\", cancer.feature_names)\n",
        "print(\"Target Names:\", cancer.target_names)\n",
        "print(\"Number of samples:\", X.shape[0])\n",
        "print(\"Number of features:\", X.shape[1])"
      ],
      "metadata": {
        "id": "FKgLGbJHSl4z"
      },
      "execution_count": null,
      "outputs": []
    },
    {
      "cell_type": "code",
      "source": [
        "# Step 3: Feature Selection\n",
        "# Split data into training and testing sets\n",
        "X_train, X_test, y_train, y_test = train_test_split(X, y, test_size=0.2, random_state=42)\n",
        "\n",
        "# Feature Selection Technique 1: SelectKBest with chi2\n",
        "k_best = SelectKBest(score_func=chi2, k=10)\n",
        "X_train_kbest = k_best.fit_transform(X_train, y_train)\n",
        "selected_features_kbest = [cancer.feature_names[i] for i in k_best.get_support(indices=True)]\n",
        "\n",
        "# Feature Selection Technique 2: Recursive Feature Elimination (RFE) with Random Forest\n",
        "rf_classifier = RandomForestClassifier()\n",
        "rfe = RFE(estimator=rf_classifier, n_features_to_select=10, step=1)\n",
        "X_train_rfe = rfe.fit_transform(X_train, y_train)\n",
        "selected_features_rfe = [cancer.feature_names[i] for i in rfe.get_support(indices=True)]\n"
      ],
      "metadata": {
        "id": "60vlli2NSpdU"
      },
      "execution_count": null,
      "outputs": []
    },
    {
      "cell_type": "code",
      "source": [
        "# Step 4: Train a classifier using the selected features\n",
        "# Train classifiers using selected features\n",
        "rf_classifier_selected_features_kbest = RandomForestClassifier()\n",
        "rf_classifier_selected_features_rfe = RandomForestClassifier()\n",
        "\n",
        "# Train with selected features using SelectKBest\n",
        "rf_classifier_selected_features_kbest.fit(X_train_kbest, y_train)\n",
        "\n",
        "# Train with selected features using RFE\n",
        "rf_classifier_selected_features_rfe.fit(X_train_rfe, y_train)"
      ],
      "metadata": {
        "colab": {
          "base_uri": "https://localhost:8080/",
          "height": 74
        },
        "id": "hHLmgXcWSv_w",
        "outputId": "c7f54e2f-e43e-40bd-aab2-13a334f6f754"
      },
      "execution_count": null,
      "outputs": [
        {
          "output_type": "execute_result",
          "data": {
            "text/plain": [
              "RandomForestClassifier()"
            ],
            "text/html": [
              "<style>#sk-container-id-3 {color: black;background-color: white;}#sk-container-id-3 pre{padding: 0;}#sk-container-id-3 div.sk-toggleable {background-color: white;}#sk-container-id-3 label.sk-toggleable__label {cursor: pointer;display: block;width: 100%;margin-bottom: 0;padding: 0.3em;box-sizing: border-box;text-align: center;}#sk-container-id-3 label.sk-toggleable__label-arrow:before {content: \"▸\";float: left;margin-right: 0.25em;color: #696969;}#sk-container-id-3 label.sk-toggleable__label-arrow:hover:before {color: black;}#sk-container-id-3 div.sk-estimator:hover label.sk-toggleable__label-arrow:before {color: black;}#sk-container-id-3 div.sk-toggleable__content {max-height: 0;max-width: 0;overflow: hidden;text-align: left;background-color: #f0f8ff;}#sk-container-id-3 div.sk-toggleable__content pre {margin: 0.2em;color: black;border-radius: 0.25em;background-color: #f0f8ff;}#sk-container-id-3 input.sk-toggleable__control:checked~div.sk-toggleable__content {max-height: 200px;max-width: 100%;overflow: auto;}#sk-container-id-3 input.sk-toggleable__control:checked~label.sk-toggleable__label-arrow:before {content: \"▾\";}#sk-container-id-3 div.sk-estimator input.sk-toggleable__control:checked~label.sk-toggleable__label {background-color: #d4ebff;}#sk-container-id-3 div.sk-label input.sk-toggleable__control:checked~label.sk-toggleable__label {background-color: #d4ebff;}#sk-container-id-3 input.sk-hidden--visually {border: 0;clip: rect(1px 1px 1px 1px);clip: rect(1px, 1px, 1px, 1px);height: 1px;margin: -1px;overflow: hidden;padding: 0;position: absolute;width: 1px;}#sk-container-id-3 div.sk-estimator {font-family: monospace;background-color: #f0f8ff;border: 1px dotted black;border-radius: 0.25em;box-sizing: border-box;margin-bottom: 0.5em;}#sk-container-id-3 div.sk-estimator:hover {background-color: #d4ebff;}#sk-container-id-3 div.sk-parallel-item::after {content: \"\";width: 100%;border-bottom: 1px solid gray;flex-grow: 1;}#sk-container-id-3 div.sk-label:hover label.sk-toggleable__label {background-color: #d4ebff;}#sk-container-id-3 div.sk-serial::before {content: \"\";position: absolute;border-left: 1px solid gray;box-sizing: border-box;top: 0;bottom: 0;left: 50%;z-index: 0;}#sk-container-id-3 div.sk-serial {display: flex;flex-direction: column;align-items: center;background-color: white;padding-right: 0.2em;padding-left: 0.2em;position: relative;}#sk-container-id-3 div.sk-item {position: relative;z-index: 1;}#sk-container-id-3 div.sk-parallel {display: flex;align-items: stretch;justify-content: center;background-color: white;position: relative;}#sk-container-id-3 div.sk-item::before, #sk-container-id-3 div.sk-parallel-item::before {content: \"\";position: absolute;border-left: 1px solid gray;box-sizing: border-box;top: 0;bottom: 0;left: 50%;z-index: -1;}#sk-container-id-3 div.sk-parallel-item {display: flex;flex-direction: column;z-index: 1;position: relative;background-color: white;}#sk-container-id-3 div.sk-parallel-item:first-child::after {align-self: flex-end;width: 50%;}#sk-container-id-3 div.sk-parallel-item:last-child::after {align-self: flex-start;width: 50%;}#sk-container-id-3 div.sk-parallel-item:only-child::after {width: 0;}#sk-container-id-3 div.sk-dashed-wrapped {border: 1px dashed gray;margin: 0 0.4em 0.5em 0.4em;box-sizing: border-box;padding-bottom: 0.4em;background-color: white;}#sk-container-id-3 div.sk-label label {font-family: monospace;font-weight: bold;display: inline-block;line-height: 1.2em;}#sk-container-id-3 div.sk-label-container {text-align: center;}#sk-container-id-3 div.sk-container {/* jupyter's `normalize.less` sets `[hidden] { display: none; }` but bootstrap.min.css set `[hidden] { display: none !important; }` so we also need the `!important` here to be able to override the default hidden behavior on the sphinx rendered scikit-learn.org. See: https://github.com/scikit-learn/scikit-learn/issues/21755 */display: inline-block !important;position: relative;}#sk-container-id-3 div.sk-text-repr-fallback {display: none;}</style><div id=\"sk-container-id-3\" class=\"sk-top-container\"><div class=\"sk-text-repr-fallback\"><pre>RandomForestClassifier()</pre><b>In a Jupyter environment, please rerun this cell to show the HTML representation or trust the notebook. <br />On GitHub, the HTML representation is unable to render, please try loading this page with nbviewer.org.</b></div><div class=\"sk-container\" hidden><div class=\"sk-item\"><div class=\"sk-estimator sk-toggleable\"><input class=\"sk-toggleable__control sk-hidden--visually\" id=\"sk-estimator-id-3\" type=\"checkbox\" checked><label for=\"sk-estimator-id-3\" class=\"sk-toggleable__label sk-toggleable__label-arrow\">RandomForestClassifier</label><div class=\"sk-toggleable__content\"><pre>RandomForestClassifier()</pre></div></div></div></div></div>"
            ]
          },
          "metadata": {},
          "execution_count": 54
        }
      ]
    },
    {
      "cell_type": "code",
      "source": [
        "# Step 5: Evaluate the performance of the model\n",
        "# Transform test set using selected features\n",
        "X_test_kbest = k_best.transform(X_test)\n",
        "X_test_rfe = rfe.transform(X_test)\n",
        "\n",
        "# Predictions using models with selected features\n",
        "y_pred_kbest = rf_classifier_selected_features_kbest.predict(X_test_kbest)\n",
        "accuracy_kbest = accuracy_score(y_test, y_pred_kbest)\n",
        "\n",
        "y_pred_rfe = rf_classifier_selected_features_rfe.predict(X_test_rfe)\n",
        "accuracy_rfe = accuracy_score(y_test, y_pred_rfe)"
      ],
      "metadata": {
        "id": "ngBrXDNaS1qe"
      },
      "execution_count": null,
      "outputs": []
    },
    {
      "cell_type": "code",
      "source": [
        "# Step 6: Compare the performance\n",
        "print(\"Selected features using SelectKBest:\", selected_features_kbest)\n",
        "print(\"Accuracy with selected features using SelectKBest:\", accuracy_kbest)\n",
        "print(\"Selected features using RFE:\", selected_features_rfe)\n",
        "print(\"Accuracy with selected features using RFE:\", accuracy_rfe)"
      ],
      "metadata": {
        "id": "s0sm5SoVS5YI"
      },
      "execution_count": null,
      "outputs": []
    },
    {
      "cell_type": "code",
      "source": [
        "import matplotlib.pyplot as plt\n",
        "\n",
        "# Accuracy scores for each technique\n",
        "accuracy_scores = [accuracy_kbest, accuracy_rfe]\n",
        "\n",
        "# Techniques used\n",
        "techniques = ['SelectKBest', 'RFE']\n",
        "\n",
        "# Plotting the bar plot\n",
        "plt.figure(figsize=(8, 6))\n",
        "plt.bar(techniques, accuracy_scores, color=['blue', 'green'])\n",
        "plt.xlabel('Feature Selection Technique')\n",
        "plt.ylabel('Accuracy')\n",
        "plt.title('Performance Comparison of Feature Selection Techniques')\n",
        "plt.ylim(0.9, 1)  # Set y-axis limit for better visualization\n",
        "plt.show()\n"
      ],
      "metadata": {
        "colab": {
          "base_uri": "https://localhost:8080/",
          "height": 564
        },
        "id": "kkAAvwV7S9cq",
        "outputId": "f1ea27ab-be39-42a7-df62-767beacf72a2"
      },
      "execution_count": null,
      "outputs": [
        {
          "output_type": "display_data",
          "data": {
            "text/plain": [
              "<Figure size 800x600 with 1 Axes>"
            ],
            "image/png": "[encoded data removed]"
          },
          "metadata": {}
        }
      ]
    },
    {
      "cell_type": "markdown",
      "source": [
        "**Machine Learning Lab 3**"
      ],
      "metadata": {
        "id": "LZ0cnTzZE2a9"
      }
    },
    {
      "cell_type": "code",
      "source": [
        "import numpy as np\n",
        "import matplotlib.pyplot as plt\n",
        "from sklearn.datasets import load_iris\n",
        "from sklearn.model_selection import train_test_split, LeaveOneOut, KFold, StratifiedKFold,cross_val_score\n",
        "from sklearn.neighbors import KNeighborsClassifier\n",
        "from sklearn.metrics import accuracy_score\n",
        "from sklearn.datasets import load_breast_cancer"
      ],
      "metadata": {
        "id": "Ge0EwXAqE17M"
      },
      "execution_count": null,
      "outputs": []
    },
    {
      "cell_type": "code",
      "source": [
        "# Step 1: Load the Breast Cancer dataset\n",
        "#cancer = load_breast_cancer()\n",
        "#X = cancer.data\n",
        "#y = cancer.target"
      ],
      "metadata": {
        "id": "3MvV5khiMttW"
      },
      "execution_count": null,
      "outputs": []
    },
    {
      "cell_type": "code",
      "source": [
        "# Step 1: Load the Iris dataset\n",
        "iris = load_iris()\n",
        "X, y = iris.data, iris.target"
      ],
      "metadata": {
        "id": "1rZpbZQ-JAt_"
      },
      "execution_count": null,
      "outputs": []
    },
    {
      "cell_type": "code",
      "source": [
        "# Step 2: Initialize the classifier\n",
        "knn = KNeighborsClassifier(n_neighbors=3)"
      ],
      "metadata": {
        "id": "DWV9l4e2JElY"
      },
      "execution_count": null,
      "outputs": []
    },
    {
      "cell_type": "code",
      "source": [
        "\n",
        "# Initialize lists to store accuracy scores\n",
        "accuracy_leave_out = []\n",
        "accuracy_leave_one_out = []\n",
        "accuracy_k_fold = []\n",
        "accuracy_stratified = []"
      ],
      "metadata": {
        "id": "VhR73ZRLJIrI"
      },
      "execution_count": null,
      "outputs": []
    },
    {
      "cell_type": "code",
      "source": [
        "# Step 3: Train the classifier using various cross-validation methods\n",
        "# Leave-One-Out method\n",
        "leave_out = LeaveOneOut()\n",
        "for train_index, test_index in leave_out.split(X):\n",
        "    X_train, X_test = X[train_index], X[test_index]\n",
        "    y_train, y_test = y[train_index], y[test_index]\n",
        "    knn.fit(X_train, y_train)\n",
        "    y_pred = knn.predict(X_test)\n",
        "    acuracy= accuracy_score(y_test, y_pred)\n",
        "    print(\"acuracy\", acuracy)\n",
        "    accuracy_leave_out.append(accuracy_score(y_test, y_pred))\n"
      ],
      "metadata": {
        "id": "QKcmq6nlJMYf"
      },
      "execution_count": null,
      "outputs": []
    },
    {
      "cell_type": "code",
      "source": [
        "# Leave-One-Out Cross-Validation\n",
        "leave_one_out = LeaveOneOut()\n",
        "accuracy_leave_one_out = cross_val_score(knn, X, y, cv=leave_one_out)\n",
        "print(accuracy_leave_one_out)\n",
        "mean_accuracy_leave_one_out = np.mean(accuracy_leave_one_out)"
      ],
      "metadata": {
        "id": "6Fte2yNcJcOZ"
      },
      "execution_count": null,
      "outputs": []
    },
    {
      "cell_type": "code",
      "source": [
        "# K-Fold Cross-Validation (with k=5)\n",
        "k_fold = KFold(n_splits=5)\n",
        "accuracy_k_fold = cross_val_score(knn, X, y, cv=k_fold)\n",
        "print(accuracy_k_fold)\n",
        "mean_accuracy_k_fold = np.mean(accuracy_k_fold)\n",
        "\n",
        "print(\"Mean Accuracy:\", mean_accuracy_k_fold)"
      ],
      "metadata": {
        "colab": {
          "base_uri": "https://localhost:8080/"
        },
        "id": "IBPy0NETJrGa",
        "outputId": "d7f20640-b161-4ac7-d512-7b2f1b1e88d8"
      },
      "execution_count": null,
      "outputs": [
        {
          "output_type": "stream",
          "name": "stdout",
          "text": [
            "[0.85087719 0.9122807  0.96491228 0.94736842 0.92920354]\n",
            "Mean Accuracy: 0.9209284272628473\n"
          ]
        }
      ]
    },
    {
      "cell_type": "code",
      "source": [
        "# Stratified K-Fold Cross-Validation (with k=5)\n",
        "stratified_k_fold = StratifiedKFold(n_splits=5)\n",
        "accuracy_stratified = cross_val_score(knn, X, y, cv=stratified_k_fold)\n",
        "print(accuracy_stratified)\n",
        "mean_accuracy_stratified = np.mean(accuracy_stratified)\n",
        "\n",
        "print(\"Mean Accuracy:\", mean_accuracy_stratified)"
      ],
      "metadata": {
        "colab": {
          "base_uri": "https://localhost:8080/"
        },
        "id": "qcbIpaOOKJw8",
        "outputId": "35c58151-d469-47df-c223-b77ed5704fc5"
      },
      "execution_count": null,
      "outputs": [
        {
          "output_type": "stream",
          "name": "stdout",
          "text": [
            "[0.87719298 0.92105263 0.94736842 0.93859649 0.91150442]\n",
            "Mean Accuracy: 0.9191429902189101\n"
          ]
        }
      ]
    },
    {
      "cell_type": "code",
      "source": [
        "# Step 4: Plot the bar plot\n",
        "labels = ['Leave-One-Out', 'K-Fold', 'Stratified K-Fold']\n",
        "mean_accuracies = [mean_accuracy_leave_one_out, mean_accuracy_k_fold, mean_accuracy_stratified]\n",
        "\n",
        "plt.bar(labels, mean_accuracies, color=['blue', 'green', 'red'])\n",
        "plt.xlabel('Cross-Validation Method')\n",
        "plt.ylabel('Mean Accuracy')\n",
        "plt.title('Mean Accuracy Comparison Across Cross-Validation Methods')\n",
        "plt.ylim(0, 1)  # Set y-axis limit from 0 to 1 (accuracy ranges from 0 to 1)\n",
        "plt.show()"
      ],
      "metadata": {
        "id": "5fDSZ8teJuV-"
      },
      "execution_count": null,
      "outputs": []
    },
    {
      "cell_type": "markdown",
      "source": [
        "# **Lab 5 Challenge 4**"
      ],
      "metadata": {
        "id": "iYHmGNUP_UFX"
      }
    },
    {
      "cell_type": "code",
      "source": [
        "# Parametrs\n",
        "\n",
        "dataset_name=\"Iris\" # dataset name\n",
        "test_size=0.2\n",
        "train_size=1-test_size\n",
        "norm= \"min-max\"\n",
        "#model=\"svm\"\n",
        "kernel_type=\"linear\"\n",
        "gamma=3\n",
        "c=1.0 # requalrization parameter\n",
        "degree=\"scale\"\n",
        "model_name=\"svm\"\n",
        "\n",
        "print(\"PARAMETERS:\")\n",
        "print(\"Dataset Name: {}\".format(dataset_name))\n",
        "print(\"Test Size: {} %\".format(test_size*100))\n",
        "print(\"Train Size: {} %\".format(train_size*100))\n",
        "print(\"Normalization: {}\".format(norm))\n",
        "print(\"Model: {}\".format(model_name))\n",
        "print(\"Kernel type: {}\".format(kernel_type))\n"
      ],
      "metadata": {
        "colab": {
          "base_uri": "https://localhost:8080/"
        },
        "id": "T3KHGSil_S6Z",
        "outputId": "73bca4fd-7fa5-4ca3-df17-8134651d7a6e"
      },
      "execution_count": 24,
      "outputs": [
        {
          "output_type": "stream",
          "name": "stdout",
          "text": [
            "PARAMETERS:\n",
            "Dataset Name: Iris\n",
            "Test Size: 20.0 %\n",
            "Train Size: 80.0 %\n",
            "Normalization: min-max\n",
            "Model: svm\n",
            "Kernel type: linear\n"
          ]
        }
      ]
    },
    {
      "cell_type": "code",
      "source": [
        "# Load or import the dtaset\n",
        "import sys\n",
        "\n",
        "from sklearn.datasets import load_iris, load_breast_cancer, load_digits, load_wine\n",
        "\n",
        "# load Iris dataset\n",
        "if dataset_name == 'Iris':\n",
        "  dataset = load_iris()\n",
        "\n",
        "# load BreastCancer dataset\n",
        "elif dataset_name == 'Breast':\n",
        "  dataset = load_breast_cancer()\n",
        "\n",
        "# load Digits dataset\n",
        "elif dataset_name == 'Digits':\n",
        "  dataset = load_digits()\n",
        "\n",
        "# load Wine dataset\n",
        "elif dataset_name == 'Wine':\n",
        "  dataset = load_wine()\n",
        "\n",
        "else:\n",
        "  sys.exit(\"ERROR: wrong dataset name [Breast, Iris, Digits, Wine]\")\n",
        "\n",
        "# read data and target\n",
        "data, target = dataset.data, dataset.target\n",
        "\n",
        "# to check dataset\n",
        "print(\"DATASET:\")\n",
        "print(\"Dataset: {}\".format(dataset_name))\n",
        "print(\"Data: {}\".format(len(data)))\n",
        "print(\"Target: {}\".format(len(target)))\n"
      ],
      "metadata": {
        "colab": {
          "base_uri": "https://localhost:8080/"
        },
        "id": "VVWayZ7Z_jyX",
        "outputId": "512b47d3-3a2a-45c3-bfcf-20bcf4a6e6cd"
      },
      "execution_count": 14,
      "outputs": [
        {
          "output_type": "stream",
          "name": "stdout",
          "text": [
            "DATASET:\n",
            "Dataset: Iris\n",
            "Data: 150\n",
            "Target: 150\n"
          ]
        }
      ]
    },
    {
      "cell_type": "code",
      "source": [
        "# Data Anlysis Using Pandas\n",
        "import pandas as pd\n",
        "\n",
        "# convert the dataset to a pandas DataFrame for analysis\n",
        "dataset_df = pd.DataFrame(data=data, columns=dataset.feature_names)\n",
        "dataset_df['target'] = target\n",
        "\n",
        "print(\"DATASET ANALYSIS:\")\n",
        "print(dataset_df.describe())\n",
        "\n",
        "print(\"DATASET INFORMATION:\")\n",
        "print(dataset_df.info())\n",
        "\n",
        "\n"
      ],
      "metadata": {
        "colab": {
          "base_uri": "https://localhost:8080/"
        },
        "id": "cz0qvfEO_wbU",
        "outputId": "a0360631-f73b-460c-8b10-93bc5606b523"
      },
      "execution_count": 15,
      "outputs": [
        {
          "output_type": "stream",
          "name": "stdout",
          "text": [
            "DATASET ANALYSIS:\n",
            "       sepal length (cm)  sepal width (cm)  petal length (cm)  \\\n",
            "count         150.000000        150.000000         150.000000   \n",
            "mean            5.843333          3.057333           3.758000   \n",
            "std             0.828066          0.435866           1.765298   \n",
            "min             4.300000          2.000000           1.000000   \n",
            "25%             5.100000          2.800000           1.600000   \n",
            "50%             5.800000          3.000000           4.350000   \n",
            "75%             6.400000          3.300000           5.100000   \n",
            "max             7.900000          4.400000           6.900000   \n",
            "\n",
            "       petal width (cm)      target  \n",
            "count        150.000000  150.000000  \n",
            "mean           1.199333    1.000000  \n",
            "std            0.762238    0.819232  \n",
            "min            0.100000    0.000000  \n",
            "25%            0.300000    0.000000  \n",
            "50%            1.300000    1.000000  \n",
            "75%            1.800000    2.000000  \n",
            "max            2.500000    2.000000  \n",
            "DATASET INFORMATION:\n",
            "<class 'pandas.core.frame.DataFrame'>\n",
            "RangeIndex: 150 entries, 0 to 149\n",
            "Data columns (total 5 columns):\n",
            " #   Column             Non-Null Count  Dtype  \n",
            "---  ------             --------------  -----  \n",
            " 0   sepal length (cm)  150 non-null    float64\n",
            " 1   sepal width (cm)   150 non-null    float64\n",
            " 2   petal length (cm)  150 non-null    float64\n",
            " 3   petal width (cm)   150 non-null    float64\n",
            " 4   target             150 non-null    int64  \n",
            "dtypes: float64(4), int64(1)\n",
            "memory usage: 6.0 KB\n",
            "None\n"
          ]
        }
      ]
    },
    {
      "cell_type": "code",
      "source": [
        "#b feature representation\\\n",
        "import matplotlib.pyplot as plt\n",
        "\n",
        "print(\"| ----------------------- |\\n\"\n",
        "      \"| FEATURE REPRESENTATION: |\\n\"\n",
        "      \"| ----------------------- |\\n\")\n",
        "\n",
        "# idx feature\n",
        "idx_feature_1 = 0\n",
        "idx_feature_2 = 1\n",
        "\n",
        "# create a new figure\n",
        "_, ax = plt.subplots()\n",
        "\n",
        "# creating a scatter plot\n",
        "scatter = ax.scatter(data[:, idx_feature_1], data[:, idx_feature_2], c=target)\n",
        "ax.set(xlabel=dataset.feature_names[idx_feature_1], ylabel=dataset.feature_names[idx_feature_2])\n",
        "print(\"Feature 1: {}\\n\"\n",
        "      \"Feature 2: {}\\n\".format(dataset.feature_names[idx_feature_1],\n",
        "                               dataset.feature_names[idx_feature_2]))\n",
        "\n",
        "# adding legend\n",
        "_ = ax.legend(\n",
        "    scatter.legend_elements()[0], dataset.target_names, loc=\"lower right\", title=\"Classes\"\n",
        ")"
      ],
      "metadata": {
        "colab": {
          "base_uri": "https://localhost:8080/",
          "height": 579
        },
        "id": "guHw44DPPfDB",
        "outputId": "15748867-3072-4ec4-da39-4d41d22ee309"
      },
      "execution_count": 16,
      "outputs": [
        {
          "output_type": "stream",
          "name": "stdout",
          "text": [
            "| ----------------------- |\n",
            "| FEATURE REPRESENTATION: |\n",
            "| ----------------------- |\n",
            "\n",
            "Feature 1: sepal length (cm)\n",
            "Feature 2: sepal width (cm)\n",
            "\n"
          ]
        },
        {
          "output_type": "display_data",
          "data": {
            "text/plain": [
              "<Figure size 640x480 with 1 Axes>"
            ],
            "image/png": "[encoded data removed]"
          },
          "metadata": {}
        }
      ]
    },
    {
      "cell_type": "code",
      "source": [
        "# 3 Data Preparation\n",
        "from sklearn.model_selection import train_test_split\n",
        "\n",
        "print(\"DATA PREPARATION\")\n",
        "\n",
        "# split the data into training and test set\n",
        "data_train, data_test, target_train, target_test = train_test_split(data,\n",
        "                                                                    target,\n",
        "                                                                    test_size=test_size,\n",
        "                                                                    random_state=42)\n",
        "\n",
        "# display training set information\n",
        "print(\"\\nTRAINING SET:\")\n",
        "print(\"Size: {} % \\n\"\n",
        "      \"Data: {} \\n\"\n",
        "      \"Target: {}\".format(train_size*100,\n",
        "                          len(data_train),\n",
        "                          len(target_train)))\n",
        "\n",
        "# display test set information\n",
        "print(\"\\nTEST SET:\")\n",
        "print(\"Size: {} % \\n\"\n",
        "      \"Data: {} \\n\"\n",
        "      \"Target: {}\".format(test_size*100,\n",
        "                          len(data_test),\n",
        "                          len(target_test)))"
      ],
      "metadata": {
        "colab": {
          "base_uri": "https://localhost:8080/"
        },
        "id": "NXRMny0tDKKc",
        "outputId": "cc9106e6-9753-4111-c0bc-f8f3721fe371"
      },
      "execution_count": 17,
      "outputs": [
        {
          "output_type": "stream",
          "name": "stdout",
          "text": [
            "DATA PREPARATION\n",
            "\n",
            "TRAINING SET:\n",
            "Size: 80.0 % \n",
            "Data: 120 \n",
            "Target: 120\n",
            "\n",
            "TEST SET:\n",
            "Size: 20.0 % \n",
            "Data: 30 \n",
            "Target: 30\n"
          ]
        }
      ]
    },
    {
      "cell_type": "code",
      "source": [
        "# Dataset Normaalization\n",
        "print(\"Dataset Normalization\")\n",
        "import sys\n",
        "\n",
        "from sklearn.preprocessing import MinMaxScaler, StandardScaler\n",
        "\n",
        "print(\"DATASET NORMALIZATION\")\n",
        "print(\"Normalization: {}\".format(norm))\n",
        "\n",
        "# min-max normalization\n",
        "if norm == 'min-max':\n",
        "  # define scaler\n",
        "  scaler = MinMaxScaler()\n",
        "\n",
        "# std normalization\n",
        "elif norm == 'std':\n",
        "  # define scaler\n",
        "  scaler = StandardScaler()\n",
        "\n",
        "elif norm == 'none':\n",
        "  data_train_scaled = data_train\n",
        "  data_test_scaled = data_test\n",
        "\n",
        "else:\n",
        "  sys.exit(\"ERROR: wrong normalization [min-max, std]\")\n",
        "\n",
        "# apply normalization\n",
        "if norm == 'min-max' or norm =='std':\n",
        "  data_train_scaled = scaler.fit_transform(data_train)\n",
        "  data_test_scaled = scaler.transform(data_test)\n",
        "\n",
        "\n",
        "\n",
        "\n",
        "\n"
      ],
      "metadata": {
        "colab": {
          "base_uri": "https://localhost:8080/"
        },
        "id": "shhzjejJEoD8",
        "outputId": "54d4f36b-09fd-47a7-9564-4f24cdb19996"
      },
      "execution_count": 18,
      "outputs": [
        {
          "output_type": "stream",
          "name": "stdout",
          "text": [
            "Dataset Normalization\n",
            "DATASET NORMALIZATION\n",
            "Normalization: min-max\n"
          ]
        }
      ]
    },
    {
      "cell_type": "code",
      "source": [
        "# 4. Model Defineation or creation\n",
        "print(\"model creation\")\n",
        "from sklearn.svm import SVC\n",
        "\n",
        " # define svm model\n",
        "if kernel_type==\"linear\":\n",
        "  model =  SVC(kernel=kernel_type, random_state=42)\n",
        "elif kernel_type==\"poly\":\n",
        "  modle=SVC(kernel=kernel_type,C=c, degree= degree, gamma=gamma, random_state=42)\n",
        "elif kernel_type=='rbf':\n",
        "  model=SVC(kernel=kerne)\n",
        "\n",
        "\n",
        "\n",
        "\n",
        "\n"
      ],
      "metadata": {
        "colab": {
          "base_uri": "https://localhost:8080/"
        },
        "id": "LdH8p_DBGsrT",
        "outputId": "faa60e3e-96c6-4f29-cfc2-0659af04212c"
      },
      "execution_count": 19,
      "outputs": [
        {
          "output_type": "stream",
          "name": "stdout",
          "text": [
            "model creation\n"
          ]
        }
      ]
    },
    {
      "cell_type": "code",
      "source": [
        "import matplotlib.pyplot as plt\n",
        "\n",
        "# idx feature\n",
        "feature_idx_1 = 0  #\n",
        "feature_idx_2 = 1  #\n",
        "\n",
        "# define figure\n",
        "plt.figure(figsize=(12, 6))\n",
        "\n",
        "# original data plot\n",
        "plt.subplot(1, 2, 1)\n",
        "plt.scatter(data_train[:, feature_idx_1], data_train[:, feature_idx_2], color='blue', label='Original')\n",
        "plt.title('Original Data')\n",
        "plt.xlabel(f'{dataset.feature_names[idx_feature_1]}')\n",
        "plt.ylabel(f'{dataset.feature_names[idx_feature_2]}')\n",
        "plt.legend()\n",
        "\n",
        "# normalized data\n",
        "plt.subplot(1, 2, 2)\n",
        "plt.scatter(data_train_scaled[:, feature_idx_1], data_train_scaled[:, feature_idx_2], color='red', label='Normalized')\n",
        "plt.title('Normalized Data')\n",
        "plt.xlabel(f'{dataset.feature_names[idx_feature_1]}')\n",
        "plt.ylabel(f'{dataset.feature_names[idx_feature_2]}')\n",
        "plt.legend()\n",
        "\n",
        "plt.tight_layout()\n",
        "plt.show()"
      ],
      "metadata": {
        "colab": {
          "base_uri": "https://localhost:8080/",
          "height": 607
        },
        "id": "fPVCzi2RPzEZ",
        "outputId": "64a86d5d-effd-4013-a509-f19499900db1"
      },
      "execution_count": 20,
      "outputs": [
        {
          "output_type": "display_data",
          "data": {
            "text/plain": [
              "<Figure size 1200x600 with 2 Axes>"
            ],
            "image/png": "[encoded data removed]"
          },
          "metadata": {}
        }
      ]
    },
    {
      "cell_type": "code",
      "source": [
        "#5 Model Creation\n",
        "\n",
        "from sklearn.svm import SVC\n",
        "\n",
        "print(\"MODEL CREATION:\")\n",
        "\n",
        "# define SVM model with linear kernel\n",
        "if kernel_type == 'linear':\n",
        "  model= SVC(kernel='linear',\n",
        "             random_state=42)\n",
        "\n",
        "# define SVM model with poly kernel\n",
        "elif kernel_type == 'poly':\n",
        "  model= SVC(kernel='poly',\n",
        "             degree=degree,\n",
        "             gamma=gamma,\n",
        "             random_state=42)\n",
        "\n",
        "# define SVM model with rbf kernel\n",
        "elif kernel_type == 'rbf':\n",
        "  model = SVC(kernel_type='rbf',\n",
        "              C=C,\n",
        "              gamma=gamma,\n",
        "              random_state=42)\n",
        "\n",
        "# define SVM model with sigmoid kernel\n",
        "elif kernel_type == 'sigmoid':\n",
        "  model = SVC(kernel_type='sigmoid',\n",
        "              gamma=gamma,\n",
        "              random_state=42)\n",
        "\n",
        "else:\n",
        "  sys.exit(\"ERROR: wrong kernel type [linear, poly, rbf, sigmoid]\")\n",
        "\n",
        "print(\"Model {} with {} kernel\".format(model_name,\n",
        "                                       kernel_type))"
      ],
      "metadata": {
        "colab": {
          "base_uri": "https://localhost:8080/"
        },
        "id": "K3tvsqOsLhC9",
        "outputId": "1f4bbb2e-cc69-4562-9e94-42caa031d07c"
      },
      "execution_count": 25,
      "outputs": [
        {
          "output_type": "stream",
          "name": "stdout",
          "text": [
            "MODEL CREATION:\n",
            "Model svm with linear kernel\n"
          ]
        }
      ]
    },
    {
      "cell_type": "code",
      "source": [
        "#4a Parameter optimization\n",
        "# define the paramaeterss to be search\n",
        "from sklearn.model_selection import GridSearchCV\n",
        "param_grid={\n",
        "    'C':[0.1,1,10, 100],\n",
        "    'gamma':[0.001,0.01,0.1,1],\n",
        "    'kernel':['linear','poly','rbf', 'sigmoid']\n",
        "}\n",
        "# initializs model\n",
        "svm=SVC(random_state=42)\n",
        "#grid search\n",
        "grid_search=GridSearchCV(estimator=svm,param_grid=param_grid,\n",
        "                cv=5,scoring=\"accuracy\", n_jobs=1\n",
        "                         )\n"
      ],
      "metadata": {
        "id": "NAp-mKnMUHwB"
      },
      "execution_count": 33,
      "outputs": []
    },
    {
      "cell_type": "code",
      "source": [
        "#Model Training\n",
        "print(\"MODEL TRAINING:\")\n",
        "\n",
        "\n",
        "\n",
        "# train model\n",
        "model.fit(data_train_scaled, target_train)"
      ],
      "metadata": {
        "colab": {
          "base_uri": "https://localhost:8080/",
          "height": 69
        },
        "id": "uFHzL256QHOy",
        "outputId": "572a73f9-d3a0-4b4d-e340-7e3a70abdcd3"
      },
      "execution_count": 26,
      "outputs": [
        {
          "output_type": "stream",
          "name": "stdout",
          "text": [
            "MODEL TRAINING:\n"
          ]
        },
        {
          "output_type": "execute_result",
          "data": {
            "text/plain": [
              "SVC(kernel='linear', random_state=42)"
            ],
            "text/html": [
              "<style>#sk-container-id-1 {color: black;background-color: white;}#sk-container-id-1 pre{padding: 0;}#sk-container-id-1 div.sk-toggleable {background-color: white;}#sk-container-id-1 label.sk-toggleable__label {cursor: pointer;display: block;width: 100%;margin-bottom: 0;padding: 0.3em;box-sizing: border-box;text-align: center;}#sk-container-id-1 label.sk-toggleable__label-arrow:before {content: \"▸\";float: left;margin-right: 0.25em;color: #696969;}#sk-container-id-1 label.sk-toggleable__label-arrow:hover:before {color: black;}#sk-container-id-1 div.sk-estimator:hover label.sk-toggleable__label-arrow:before {color: black;}#sk-container-id-1 div.sk-toggleable__content {max-height: 0;max-width: 0;overflow: hidden;text-align: left;background-color: #f0f8ff;}#sk-container-id-1 div.sk-toggleable__content pre {margin: 0.2em;color: black;border-radius: 0.25em;background-color: #f0f8ff;}#sk-container-id-1 input.sk-toggleable__control:checked~div.sk-toggleable__content {max-height: 200px;max-width: 100%;overflow: auto;}#sk-container-id-1 input.sk-toggleable__control:checked~label.sk-toggleable__label-arrow:before {content: \"▾\";}#sk-container-id-1 div.sk-estimator input.sk-toggleable__control:checked~label.sk-toggleable__label {background-color: #d4ebff;}#sk-container-id-1 div.sk-label input.sk-toggleable__control:checked~label.sk-toggleable__label {background-color: #d4ebff;}#sk-container-id-1 input.sk-hidden--visually {border: 0;clip: rect(1px 1px 1px 1px);clip: rect(1px, 1px, 1px, 1px);height: 1px;margin: -1px;overflow: hidden;padding: 0;position: absolute;width: 1px;}#sk-container-id-1 div.sk-estimator {font-family: monospace;background-color: #f0f8ff;border: 1px dotted black;border-radius: 0.25em;box-sizing: border-box;margin-bottom: 0.5em;}#sk-container-id-1 div.sk-estimator:hover {background-color: #d4ebff;}#sk-container-id-1 div.sk-parallel-item::after {content: \"\";width: 100%;border-bottom: 1px solid gray;flex-grow: 1;}#sk-container-id-1 div.sk-label:hover label.sk-toggleable__label {background-color: #d4ebff;}#sk-container-id-1 div.sk-serial::before {content: \"\";position: absolute;border-left: 1px solid gray;box-sizing: border-box;top: 0;bottom: 0;left: 50%;z-index: 0;}#sk-container-id-1 div.sk-serial {display: flex;flex-direction: column;align-items: center;background-color: white;padding-right: 0.2em;padding-left: 0.2em;position: relative;}#sk-container-id-1 div.sk-item {position: relative;z-index: 1;}#sk-container-id-1 div.sk-parallel {display: flex;align-items: stretch;justify-content: center;background-color: white;position: relative;}#sk-container-id-1 div.sk-item::before, #sk-container-id-1 div.sk-parallel-item::before {content: \"\";position: absolute;border-left: 1px solid gray;box-sizing: border-box;top: 0;bottom: 0;left: 50%;z-index: -1;}#sk-container-id-1 div.sk-parallel-item {display: flex;flex-direction: column;z-index: 1;position: relative;background-color: white;}#sk-container-id-1 div.sk-parallel-item:first-child::after {align-self: flex-end;width: 50%;}#sk-container-id-1 div.sk-parallel-item:last-child::after {align-self: flex-start;width: 50%;}#sk-container-id-1 div.sk-parallel-item:only-child::after {width: 0;}#sk-container-id-1 div.sk-dashed-wrapped {border: 1px dashed gray;margin: 0 0.4em 0.5em 0.4em;box-sizing: border-box;padding-bottom: 0.4em;background-color: white;}#sk-container-id-1 div.sk-label label {font-family: monospace;font-weight: bold;display: inline-block;line-height: 1.2em;}#sk-container-id-1 div.sk-label-container {text-align: center;}#sk-container-id-1 div.sk-container {/* jupyter's `normalize.less` sets `[hidden] { display: none; }` but bootstrap.min.css set `[hidden] { display: none !important; }` so we also need the `!important` here to be able to override the default hidden behavior on the sphinx rendered scikit-learn.org. See: https://github.com/scikit-learn/scikit-learn/issues/21755 */display: inline-block !important;position: relative;}#sk-container-id-1 div.sk-text-repr-fallback {display: none;}</style><div id=\"sk-container-id-1\" class=\"sk-top-container\"><div class=\"sk-text-repr-fallback\"><pre>SVC(kernel=&#x27;linear&#x27;, random_state=42)</pre><b>In a Jupyter environment, please rerun this cell to show the HTML representation or trust the notebook. <br />On GitHub, the HTML representation is unable to render, please try loading this page with nbviewer.org.</b></div><div class=\"sk-container\" hidden><div class=\"sk-item\"><div class=\"sk-estimator sk-toggleable\"><input class=\"sk-toggleable__control sk-hidden--visually\" id=\"sk-estimator-id-1\" type=\"checkbox\" checked><label for=\"sk-estimator-id-1\" class=\"sk-toggleable__label sk-toggleable__label-arrow\">SVC</label><div class=\"sk-toggleable__content\"><pre>SVC(kernel=&#x27;linear&#x27;, random_state=42)</pre></div></div></div></div></div>"
            ]
          },
          "metadata": {},
          "execution_count": 26
        }
      ]
    },
    {
      "cell_type": "code",
      "source": [
        "# model training with optimization\n",
        "print(\"Model Training Optimization\")\n",
        "grid_search.fit(data_train_scaled, target_train)\n",
        "\n",
        "# Display the best performance\n",
        "print(\"best accuracy :{}\", format(grid_search.best_params_))\n",
        "print(\"Best accuracy  : {}\", format(grid_search.best_score_))\n"
      ],
      "metadata": {
        "id": "c02OlCNeUQIi"
      },
      "execution_count": null,
      "outputs": []
    },
    {
      "cell_type": "code",
      "source": [
        "# 6 Model Evaluation\n",
        "from sklearn.metrics import accuracy_score, classification_report\n",
        "\n",
        "print(\"MODEL EVALUATION:\")\n",
        "\n",
        "# performs predictions on test set\n",
        "predictions_test = model.predict(data_test_scaled)\n",
        "\n",
        "# computes accuracy of predictions\n",
        "accuracy = accuracy_score(y_true=target_test,\n",
        "                          y_pred=predictions_test)\n",
        "\n",
        "# display accuracy\n",
        "print(\"Accuracy: {:.2f} %\".format(accuracy*100))\n",
        "\n",
        "# compute classification report\n",
        "target_names = dataset.target_names.astype(str).tolist()  # get target names\n",
        "cls_report = classification_report(y_true=target_test,\n",
        "                                   y_pred=predictions_test)\n",
        "\n",
        "print(\"\\nClassification Report:\")\n",
        "print(cls_report)\n"
      ],
      "metadata": {
        "id": "RoJU0lP6MSIJ"
      },
      "execution_count": null,
      "outputs": []
    },
    {
      "cell_type": "code",
      "source": [
        "#Model Evaluation With Parameter Optimization\n",
        "prediction=grid_search.predict(data_test_scaled)\n",
        "accuracy = accuracy_score(y_true=target_test,\n",
        "                          y_pred=prediction)\n",
        "\n",
        "# display accuracy\n",
        "print(\"Accuracy: {:.2f} %\".format(accuracy*100))\n",
        "\n",
        "# compute classification report\n",
        "target_names = dataset.target_names.astype(str).tolist()  # get target names\n",
        "cls_report = classification_report(y_true=target_test,\n",
        "                                   y_pred=prediction)\n",
        "\n",
        "print(\"\\nClassification Report:\")\n",
        "print(cls_report)\n"
      ],
      "metadata": {
        "id": "RCmCLsKeYiWU"
      },
      "execution_count": null,
      "outputs": []
    },
    {
      "cell_type": "code",
      "source": [
        "# cross validation\n",
        "\n",
        "\n",
        "\n",
        "\n"
      ],
      "metadata": {
        "id": "5s-4ws1OTbZo"
      },
      "execution_count": 38,
      "outputs": []
    },
    {
      "cell_type": "code",
      "source": [
        "#k-fold validation\n",
        "fold=5\n",
        "from sklearn.model_selection import cross_val_score\n",
        "scores=cross_val_score(model,\n",
        "                       data,\n",
        "                       target,\n",
        "                       cv=fold)\n",
        "\n",
        "for i in range(fold):\n",
        "    print(\"fold: {} {:,}\".format(i+1, scores[i]))\n",
        "\n",
        "ave_performance = scores.mean()\n",
        "print(\"average performance: {}\".format(ave_performance))\n"
      ],
      "metadata": {
        "colab": {
          "base_uri": "https://localhost:8080/"
        },
        "id": "zGCsicDmalG_",
        "outputId": "44e0e852-ce50-41ed-9c80-21bec4e4e3d6"
      },
      "execution_count": 46,
      "outputs": [
        {
          "output_type": "stream",
          "name": "stdout",
          "text": [
            "fold: 1 0.9666666666666667\n",
            "fold: 2 1.0\n",
            "fold: 3 0.9666666666666667\n",
            "fold: 4 0.9666666666666667\n",
            "fold: 5 1.0\n",
            "average performance: 0.9800000000000001\n"
          ]
        }
      ]
    },
    {
      "cell_type": "code",
      "source": [
        "#Stratified Validation\n",
        "from sklearn.model_selection import StratifiedKFold\n",
        "\n",
        "print(\"| ---------------------------- |\\n\"\n",
        "      \"| STRATIFIED CROSS VALIDATION: |\\n\"\n",
        "      \"| ---------------------------- |\\n\")\n",
        "\n",
        "# show number of splits\n",
        "num_splits=5\n",
        "print(\"Number of Splits: {}\".format(num_splits))\n",
        "\n",
        "# init Stratified K-Fold Cross-Validation\n",
        "skf = StratifiedKFold(n_splits=num_splits, shuffle=True, random_state=42)\n",
        "\n",
        "# init hist\n",
        "accuracies = []\n",
        "\n",
        "# start loop\n",
        "print(\"\\nSTRATIFIED FOLD CROSS VALIDATION:\")\n",
        "for fold_idx, (train_index, test_index) in enumerate(skf.split(data, target), 1):\n",
        "    data_train, data_test = data[train_index], data[test_index]\n",
        "    target_train, target_test = target[train_index], target[test_index]\n",
        "\n",
        "    # train model\n",
        "    model.fit(data_train, target_train)\n",
        "\n",
        "    #evaluate prediction\n",
        "    accuracy = model.score(data_test, target_test)\n",
        "\n",
        "    # show performance per fold\n",
        "    print(\"Fold-{} \"\n",
        "          \"Training set: {} \"\n",
        "          \"Test set: {} \"\n",
        "          \"Accuracy: {:.3f} \".format(fold_idx,\n",
        "                                     len(data_train),\n",
        "                                     len(data_test),\n",
        "                                     accuracy))\n",
        "\n",
        "    # append accuracy\n",
        "    accuracies.append(accuracy)\n",
        "\n",
        "# compute average accuracy\n",
        "mean_accuracy = sum(accuracies) / len(accuracies)\n",
        "\n",
        "print(\"\\nAccuracy: {:.3f}\".format(mean_accuracy))\n"
      ],
      "metadata": {
        "colab": {
          "base_uri": "https://localhost:8080/"
        },
        "id": "WBQZreutaob8",
        "outputId": "78375bc3-9517-4fda-c93e-4f773bc71bc9"
      },
      "execution_count": 48,
      "outputs": [
        {
          "output_type": "stream",
          "name": "stdout",
          "text": [
            "| ---------------------------- |\n",
            "| STRATIFIED CROSS VALIDATION: |\n",
            "| ---------------------------- |\n",
            "\n",
            "Number of Splits: 5\n",
            "\n",
            "STRATIFIED FOLD CROSS VALIDATION:\n",
            "Fold-1 Training set: 120 Test set: 30 Accuracy: 1.000 \n",
            "Fold-2 Training set: 120 Test set: 30 Accuracy: 1.000 \n",
            "Fold-3 Training set: 120 Test set: 30 Accuracy: 0.933 \n",
            "Fold-4 Training set: 120 Test set: 30 Accuracy: 1.000 \n",
            "Fold-5 Training set: 120 Test set: 30 Accuracy: 1.000 \n",
            "\n",
            "Accuracy: 0.987\n"
          ]
        }
      ]
    },
    {
      "cell_type": "markdown",
      "source": [
        "# Callenge 5\n"
      ],
      "metadata": {
        "id": "lX8WtkAsfZ24"
      }
    }
  ]
}