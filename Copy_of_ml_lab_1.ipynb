{
  "nbformat": 4,
  "nbformat_minor": 0,
  "metadata": {
    "colab": {
      "provenance": [],
      "include_colab_link": true
    },
    "kernelspec": {
      "name": "python3",
      "display_name": "Python 3"
    },
    "language_info": {
      "name": "python"
    }
  },
  "cells": [
    {
      "cell_type": "markdown",
      "metadata": {
        "id": "view-in-github",
        "colab_type": "text"
      },
      "source": [
        "<a href=\"https://colab.research.google.com/github/Habtamuyihun561/MAIA/blob/main/Copy_of_ml_lab_1.ipynb\" target=\"_parent\"><img src=\"https://colab.research.google.com/assets/colab-badge.svg\" alt=\"Open In Colab\"/></a>"
      ]
    },
    {
      "cell_type": "markdown",
      "source": [
        "# Chalenge 1\n",
        "Dataset loading,\n",
        "Dataset analysis,\n",
        "data set preparation,\n",
        "model creation ,\n",
        "model training ,\n",
        "modle evaluation\n"
      ],
      "metadata": {
        "id": "QTuqtLLhDpiP"
      }
    },
    {
      "cell_type": "code",
      "execution_count": null,
      "metadata": {
        "id": "SKtFB0JWDKy5"
      },
      "outputs": [],
      "source": [
        "import numpy as np\n",
        "import pandas as pd\n",
        "from matplotlib import pyplot as plt"
      ]
    },
    {
      "cell_type": "code",
      "source": [
        "from sklearn.datasets import load_iris\n",
        "iris=load_iris()\n",
        "data,target=iris.data,iris.target\n",
        "#print(data) #features\n",
        "#print(target) #label\n",
        "print(len(data))#check length of the data\n",
        "data.shape #shape of the data\n",
        "target.shape\n",
        "print(\"Data:\".format())"
      ],
      "metadata": {
        "id": "mpL0rE8jEnH9"
      },
      "execution_count": null,
      "outputs": []
    },
    {
      "cell_type": "code",
      "source": [
        "# Data set analysis using panda\n",
        "import pandas as pd\n",
        "iris_df=pd.DataFrame(data=iris.data, columns=iris.feature_names)\n",
        "print(iris_df)\n",
        "iris_df.describe()\n",
        "iris_df.info()\n"
      ],
      "metadata": {
        "id": "tP4YIzddGHVx"
      },
      "execution_count": null,
      "outputs": []
    },
    {
      "cell_type": "code",
      "source": [
        "import matplotlib.pyplot as plt\n"
      ],
      "metadata": {
        "id": "KHymkNs8GWHT"
      },
      "execution_count": null,
      "outputs": []
    },
    {
      "cell_type": "code",
      "source": [
        "# data preparation\n",
        "# Data is divide into trainign and testing data\n",
        "from sklearn.model_selection import train_test_split\n",
        "data_train, data_test, target_train,target_test=train_test_split(data,target,test_size=0.2, random_state=41)\n",
        "print(len(data_train))\n",
        "print(len(data_test))\n",
        "print(len(target_train))\n",
        "print(len(target_test))"
      ],
      "metadata": {
        "id": "fRw2QUMSGcxU"
      },
      "execution_count": null,
      "outputs": []
    },
    {
      "cell_type": "code",
      "source": [],
      "metadata": {
        "id": "O_FwyJlVQmkH"
      },
      "execution_count": null,
      "outputs": []
    },
    {
      "cell_type": "markdown",
      "source": [],
      "metadata": {
        "id": "uwrCjykZQmMe"
      }
    },
    {
      "cell_type": "code",
      "source": [
        "# Model Creation\n",
        "from sklearn.neighbors import KNeighborsClassifier\n",
        "from sklearn.metrics import accuracy_score, confusion_matrix\n",
        "\n",
        "model= KNeighborsClassifier(n_neighbors=3)\n",
        "# Training\n",
        "model.fit(data_train, target_train)\n",
        "\n",
        "#Testing\n",
        "\n",
        "predictions=model.predict(data_test)\n",
        "print(predictions)\n",
        "#Model Evaluation\n",
        "accuracy=accuracy_score(target_test,predictions)\n",
        "print(accuracy)\n",
        "confusion_matrix(target_test, predictions)\n",
        "\n"
      ],
      "metadata": {
        "id": "8ACdC9ojJp-Z"
      },
      "execution_count": null,
      "outputs": []
    },
    {
      "cell_type": "markdown",
      "source": [
        "Challenge 2, Breat cancer data set"
      ],
      "metadata": {
        "id": "HMRWxfa3TibA"
      }
    },
    {
      "cell_type": "code",
      "source": [
        "from sklearn.datasets import load_breast_cancer\n",
        "dataset = load_breast_cancer()\n",
        "data=dataset.data\n",
        "target=dataset.target\n",
        "#print(ldata)\n",
        "#print(target)\n",
        "print(len(data))\n",
        "print(len(target))\n",
        "#target=data.target[[10, 50, 85]]\n",
        "x_train,x_test, y_train,y_test= train_test_split(data,target, test_size=0.2, random_state=42)\n",
        "\n",
        "print(len(x_train))\n",
        "print(len(x_test))\n",
        "print(len(y_train))\n"
      ],
      "metadata": {
        "id": "1SRBnH4GQnur"
      },
      "execution_count": null,
      "outputs": []
    },
    {
      "cell_type": "code",
      "source": [
        "# Model Creation\n",
        "from sklearn import svm\n",
        "model= KNeighborsClassifier(n_neighbors=3)\n",
        "\n",
        "#Testing\n",
        "predictions=model.predict(x_test)\n",
        "print(predictions)\n",
        "# Model evaluation\n",
        "accuracy=accuracy_score(y_test,predictions)\n",
        "print(accuracy)\n",
        "confusion_matrix(y_test, predictions)"
      ],
      "metadata": {
        "id": "wZoM9aryUDYT"
      },
      "execution_count": null,
      "outputs": []
    },
    {
      "cell_type": "code",
      "source": [],
      "metadata": {
        "id": "D8RXaL9dVUoZ"
      },
      "execution_count": null,
      "outputs": []
    },
    {
      "cell_type": "code",
      "source": [
        "#Create a svm Classifier\n",
        "clf = svm.SVC(kernel='linear') # Linear Kernel\n",
        "\n",
        "#Train the model using the training sets\n",
        "clf.fit(x_train, y_train)\n",
        "\n",
        "#Predict the response for test dataset\n",
        "y_pred = clf.predict(x_test)\n",
        "# Training\n",
        "model.fit(x_train, y_train)\n",
        "accuracy=accuracy_score(y_test,y_pred)\n",
        "print(accuracy)\n"
      ],
      "metadata": {
        "id": "R7gsZY8LXatK"
      },
      "execution_count": null,
      "outputs": []
    },
    {
      "cell_type": "markdown",
      "source": [
        "#Machine Learning Lab 2: Feature Extraction and Cross Validation\n",
        "#Challenge 1"
      ],
      "metadata": {
        "id": "qf01-mtgBbzI"
      }
    },
    {
      "cell_type": "code",
      "source": [
        "# feature extraction\n",
        "import numpy as np\n",
        "import pandas as pd\n",
        "from sklearn.datasets import load_iris\n",
        "from sklearn.model_selection import train_test_split\n",
        "from sklearn.feature_selection import SelectKBest, chi2, RFE\n",
        "from sklearn.ensemble import RandomForestClassifier\n",
        "from sklearn.metrics import accuracy_score"
      ],
      "metadata": {
        "id": "aJvN-w7wBbPL"
      },
      "execution_count": null,
      "outputs": []
    },
    {
      "cell_type": "code",
      "source": [
        "# Step 1: Load the Iris dataset\n",
        "iris = load_iris()\n",
        "X = iris.data\n",
        "y = iris.target"
      ],
      "metadata": {
        "id": "iAB1RNW5DmTN"
      },
      "execution_count": null,
      "outputs": []
    },
    {
      "cell_type": "code",
      "source": [
        "# Step 2: Exploratory Data Analysis\n",
        "print(\"Feature Names:\", iris.feature_names)\n",
        "print(\"Target Names:\", iris.target_names)\n",
        "#print(X.shape)\n",
        "print(\"Number of samples:\", X.shape[0])\n",
        "print(\"Number of features:\", X.shape[1])"
      ],
      "metadata": {
        "id": "KlcbN7uODq1_"
      },
      "execution_count": null,
      "outputs": []
    },
    {
      "cell_type": "code",
      "source": [
        "# Step 3: Feature Selection\n",
        "# For demonstration, let's use SelectKBest with chi2 to select top 100 features\n",
        "#k_best = SelectKBest(score_func=chi2, k=100)\n",
        "#X_selected = k_best.fit_transform(X, y)\n",
        "\n",
        "# Print indices of selected features\n",
        "#selected_feature_indices = np.where(k_best.get_support())[0]\n",
        "#print(\"Indices of selected features:\", selected_feature_indices)"
      ],
      "metadata": {
        "id": "f3XTIxuQNiHv"
      },
      "execution_count": null,
      "outputs": []
    },
    {
      "cell_type": "code",
      "source": [
        "# Step 3: Feature Selection\n",
        "# Split data into training and testing sets\n",
        "\n",
        "X_train, X_test, y_train, y_test = train_test_split(X, y, test_size=0.2, random_state=42)\n",
        "\n",
        "# Feature Selection Technique 1: SelectKBest with chi2\n",
        "k_best = SelectKBest(score_func=chi2, k=2)\n",
        "X_train_kbest = k_best.fit_transform(X_train, y_train)\n",
        "selected_features_kbest = np.array(iris.feature_names)[k_best.get_support()]\n",
        "#print(\"number of samples\",selected_features_kbest.shape)\n",
        "\n",
        "\n",
        "# Feature Selection Technique 2: Recursive Feature Elimination (RFE) with Random Forest\n",
        "rf_classifier = RandomForestClassifier()\n",
        "rfe = RFE(estimator=rf_classifier, n_features_to_select=2, step=1)\n",
        "X_train_rfe = rfe.fit_transform(X_train, y_train)\n",
        "selected_features_rfe = np.array(iris.feature_names)[rfe.get_support()]"
      ],
      "metadata": {
        "colab": {
          "base_uri": "https://localhost:8080/"
        },
        "id": "Af3oeP_1DvMo",
        "outputId": "80ebdc67-d882-4685-acfd-2788ab2a662b"
      },
      "execution_count": null,
      "outputs": [
        {
          "output_type": "stream",
          "name": "stdout",
          "text": [
            "number of samples 2\n",
            "number of samples (2,)\n"
          ]
        }
      ]
    },
    {
      "cell_type": "code",
      "source": [
        "# Step 4: Train a classifier using the selected features\n",
        "# Train classifiers using selected features\n",
        "rf_classifier_all_features = RandomForestClassifier()\n",
        "rf_classifier_selected_features_kbest = RandomForestClassifier()\n",
        "rf_classifier_selected_features_rfe = RandomForestClassifier()\n",
        "\n",
        "# Train with all features\n",
        "rf_classifier_all_features.fit(X_train, y_train)\n",
        "\n",
        "# Train with selected features using SelectKBest\n",
        "rf_classifier_selected_features_kbest.fit(X_train_kbest, y_train)\n",
        "\n",
        "# Train with selected features using RFE\n",
        "rf_classifier_selected_features_rfe.fit(X_train_rfe, y_train)"
      ],
      "metadata": {
        "colab": {
          "base_uri": "https://localhost:8080/",
          "height": 74
        },
        "id": "LCChFA4GD2iA",
        "outputId": "c635ddbe-2b4d-4e02-dd62-ef1c579fcf50"
      },
      "execution_count": null,
      "outputs": [
        {
          "output_type": "execute_result",
          "data": {
            "text/plain": [
              "RandomForestClassifier()"
            ],
            "text/html": [
              "<style>#sk-container-id-2 {color: black;background-color: white;}#sk-container-id-2 pre{padding: 0;}#sk-container-id-2 div.sk-toggleable {background-color: white;}#sk-container-id-2 label.sk-toggleable__label {cursor: pointer;display: block;width: 100%;margin-bottom: 0;padding: 0.3em;box-sizing: border-box;text-align: center;}#sk-container-id-2 label.sk-toggleable__label-arrow:before {content: \"▸\";float: left;margin-right: 0.25em;color: #696969;}#sk-container-id-2 label.sk-toggleable__label-arrow:hover:before {color: black;}#sk-container-id-2 div.sk-estimator:hover label.sk-toggleable__label-arrow:before {color: black;}#sk-container-id-2 div.sk-toggleable__content {max-height: 0;max-width: 0;overflow: hidden;text-align: left;background-color: #f0f8ff;}#sk-container-id-2 div.sk-toggleable__content pre {margin: 0.2em;color: black;border-radius: 0.25em;background-color: #f0f8ff;}#sk-container-id-2 input.sk-toggleable__control:checked~div.sk-toggleable__content {max-height: 200px;max-width: 100%;overflow: auto;}#sk-container-id-2 input.sk-toggleable__control:checked~label.sk-toggleable__label-arrow:before {content: \"▾\";}#sk-container-id-2 div.sk-estimator input.sk-toggleable__control:checked~label.sk-toggleable__label {background-color: #d4ebff;}#sk-container-id-2 div.sk-label input.sk-toggleable__control:checked~label.sk-toggleable__label {background-color: #d4ebff;}#sk-container-id-2 input.sk-hidden--visually {border: 0;clip: rect(1px 1px 1px 1px);clip: rect(1px, 1px, 1px, 1px);height: 1px;margin: -1px;overflow: hidden;padding: 0;position: absolute;width: 1px;}#sk-container-id-2 div.sk-estimator {font-family: monospace;background-color: #f0f8ff;border: 1px dotted black;border-radius: 0.25em;box-sizing: border-box;margin-bottom: 0.5em;}#sk-container-id-2 div.sk-estimator:hover {background-color: #d4ebff;}#sk-container-id-2 div.sk-parallel-item::after {content: \"\";width: 100%;border-bottom: 1px solid gray;flex-grow: 1;}#sk-container-id-2 div.sk-label:hover label.sk-toggleable__label {background-color: #d4ebff;}#sk-container-id-2 div.sk-serial::before {content: \"\";position: absolute;border-left: 1px solid gray;box-sizing: border-box;top: 0;bottom: 0;left: 50%;z-index: 0;}#sk-container-id-2 div.sk-serial {display: flex;flex-direction: column;align-items: center;background-color: white;padding-right: 0.2em;padding-left: 0.2em;position: relative;}#sk-container-id-2 div.sk-item {position: relative;z-index: 1;}#sk-container-id-2 div.sk-parallel {display: flex;align-items: stretch;justify-content: center;background-color: white;position: relative;}#sk-container-id-2 div.sk-item::before, #sk-container-id-2 div.sk-parallel-item::before {content: \"\";position: absolute;border-left: 1px solid gray;box-sizing: border-box;top: 0;bottom: 0;left: 50%;z-index: -1;}#sk-container-id-2 div.sk-parallel-item {display: flex;flex-direction: column;z-index: 1;position: relative;background-color: white;}#sk-container-id-2 div.sk-parallel-item:first-child::after {align-self: flex-end;width: 50%;}#sk-container-id-2 div.sk-parallel-item:last-child::after {align-self: flex-start;width: 50%;}#sk-container-id-2 div.sk-parallel-item:only-child::after {width: 0;}#sk-container-id-2 div.sk-dashed-wrapped {border: 1px dashed gray;margin: 0 0.4em 0.5em 0.4em;box-sizing: border-box;padding-bottom: 0.4em;background-color: white;}#sk-container-id-2 div.sk-label label {font-family: monospace;font-weight: bold;display: inline-block;line-height: 1.2em;}#sk-container-id-2 div.sk-label-container {text-align: center;}#sk-container-id-2 div.sk-container {/* jupyter's `normalize.less` sets `[hidden] { display: none; }` but bootstrap.min.css set `[hidden] { display: none !important; }` so we also need the `!important` here to be able to override the default hidden behavior on the sphinx rendered scikit-learn.org. See: https://github.com/scikit-learn/scikit-learn/issues/21755 */display: inline-block !important;position: relative;}#sk-container-id-2 div.sk-text-repr-fallback {display: none;}</style><div id=\"sk-container-id-2\" class=\"sk-top-container\"><div class=\"sk-text-repr-fallback\"><pre>RandomForestClassifier()</pre><b>In a Jupyter environment, please rerun this cell to show the HTML representation or trust the notebook. <br />On GitHub, the HTML representation is unable to render, please try loading this page with nbviewer.org.</b></div><div class=\"sk-container\" hidden><div class=\"sk-item\"><div class=\"sk-estimator sk-toggleable\"><input class=\"sk-toggleable__control sk-hidden--visually\" id=\"sk-estimator-id-2\" type=\"checkbox\" checked><label for=\"sk-estimator-id-2\" class=\"sk-toggleable__label sk-toggleable__label-arrow\">RandomForestClassifier</label><div class=\"sk-toggleable__content\"><pre>RandomForestClassifier()</pre></div></div></div></div></div>"
            ]
          },
          "metadata": {},
          "execution_count": 41
        }
      ]
    },
    {
      "cell_type": "code",
      "source": [
        "# Step 5: Evaluate the performance of the model\n",
        "# Test on the testing set\n",
        "y_pred_all_features = rf_classifier_all_features.predict(X_test)\n",
        "accuracy_all_features = accuracy_score(y_test, y_pred_all_features)\n",
        "\n",
        "# Transform test set using selected features\n",
        "X_test_kbest = k_best.transform(X_test)\n",
        "X_test_rfe = rfe.transform(X_test)\n",
        "\n",
        "# Predictions using models with selected features\n",
        "y_pred_kbest = rf_classifier_selected_features_kbest.predict(X_test_kbest)\n",
        "accuracy_kbest = accuracy_score(y_test, y_pred_kbest)\n",
        "\n",
        "y_pred_rfe = rf_classifier_selected_features_rfe.predict(X_test_rfe)\n",
        "accuracy_rfe = accuracy_score(y_test, y_pred_rfe)"
      ],
      "metadata": {
        "id": "XsJx0rQxD84_"
      },
      "execution_count": null,
      "outputs": []
    },
    {
      "cell_type": "code",
      "source": [
        "# Step 6: Compare the performance\n",
        "print(\"Accuracy with all features:\", accuracy_all_features)\n",
        "print(\"Selected features using SelectKBest:\", selected_features_kbest)\n",
        "print(\"Accuracy with selected features using SelectKBest:\", accuracy_kbest)\n",
        "print(\"Selected features using RFE:\", selected_features_rfe)\n",
        "print(\"Accuracy with selected features using RFE:\", accuracy_rfe)"
      ],
      "metadata": {
        "id": "XVsxkbq-EFGQ"
      },
      "execution_count": null,
      "outputs": []
    },
    {
      "cell_type": "code",
      "source": [
        "import matplotlib.pyplot as plt\n",
        "\n",
        "# List of feature selection techniques\n",
        "feature_selection_methods = ['All Features', 'SelectKBest', 'RFE']\n",
        "\n",
        "# List of accuracies obtained for each feature selection technique\n",
        "accuracy_scores = [accuracy_all_features, accuracy_kbest, accuracy_rfe]\n",
        "\n",
        "# Plotting the bar chart\n",
        "plt.figure(figsize=(8, 6))\n",
        "plt.bar(feature_selection_methods, accuracy_scores, color='skyblue')\n",
        "plt.xlabel('Feature Selection Technique')\n",
        "plt.ylabel('Accuracy')\n",
        "plt.title('Performance Comparison of Feature Selection Techniques')\n",
        "plt.ylim(0.9, 1.0)  # Adjust ylim if needed\n",
        "plt.show()\n"
      ],
      "metadata": {
        "colab": {
          "base_uri": "https://localhost:8080/",
          "height": 564
        },
        "id": "LuNOMKCqRjnG",
        "outputId": "bd2bf04e-173f-4414-b319-9637763c32e8"
      },
      "execution_count": null,
      "outputs": [
        {
          "output_type": "display_data",
          "data": {
            "text/plain": [
              "<Figure size 800x600 with 1 Axes>"
            ],
            "image/png": "[encoded data removed]"
          },
          "metadata": {}
        }
      ]
    },
    {
      "cell_type": "markdown",
      "source": [
        "#Chalenge 2"
      ],
      "metadata": {
        "id": "IwAQ4DZbETrp"
      }
    },
    {
      "cell_type": "code",
      "source": [
        "from sklearn.model_selection import KFold\n",
        "from sklearn.metrics import accuracy_score\n",
        "from sklearn.ensemble import RandomForestClassifier\n",
        "import numpy as np"
      ],
      "metadata": {
        "id": "RgYRxlJ3EZhh"
      },
      "execution_count": null,
      "outputs": []
    },
    {
      "cell_type": "code",
      "source": [
        "# Assuming X and y are your feature matrix and target vector, respectively\n",
        "\n",
        "# Step 1: Splitting the dataset into k folds\n",
        "k = 5  # Number of folds\n",
        "kf = KFold(n_splits=k, shuffle=True, random_state=42)"
      ],
      "metadata": {
        "id": "qP3iMXVsGCU7"
      },
      "execution_count": null,
      "outputs": []
    },
    {
      "cell_type": "code",
      "source": [
        "# Step 2, 3, 4, 5: Cross-validation loop\n",
        "accuracy_scores = []\n",
        "for train_index, test_index in kf.split(X):\n",
        "    X_train, X_test = X[train_index], X[test_index]\n",
        "    y_train, y_test = y[train_index], y[test_index]\n",
        "\n",
        "    # Train your model\n",
        "    model = RandomForestClassifier()\n",
        "    model.fit(X_train, y_train)\n",
        "\n",
        "    # Evaluate the model\n",
        "    y_pred = model.predict(X_test)\n",
        "    accuracy = accuracy_score(y_test, y_pred)\n",
        "    accuracy_scores.append(accuracy)"
      ],
      "metadata": {
        "id": "sp75rzmwGGWl"
      },
      "execution_count": null,
      "outputs": []
    },
    {
      "cell_type": "code",
      "source": [
        "from sklearn.metrics import accuracy_score, precision_score, recall_score, f1_score\n",
        "\n",
        "# Initialize lists to store performance metrics for each fold\n",
        "accuracy_scores = []\n",
        "precision_scores = []\n",
        "recall_scores = []\n",
        "f1_scores = []\n",
        "\n",
        "# Loop over each fold in k-fold cross-validation\n",
        "for train_index, test_index in kf.split(X):\n",
        "    X_train, X_test = X[train_index], X[test_index]\n",
        "    y_train, y_test = y[train_index], y[test_index]\n",
        "\n",
        "    # Train your model\n",
        "    model = RandomForestClassifier()\n",
        "    model.fit(X_train, y_train)\n",
        "\n",
        "    # Evaluate the model on the test data\n",
        "    y_pred = model.predict(X_test)\n",
        "\n",
        "    # Calculate evaluation metrics\n",
        "    accuracy = accuracy_score(y_test, y_pred)\n",
        "    precision = precision_score(y_test, y_pred)\n",
        "    recall = recall_score(y_test, y_pred)\n",
        "    f1 = f1_score(y_test, y_pred)\n",
        "\n",
        "    # Append scores to respective lists\n",
        "    accuracy_scores.append(accuracy)\n",
        "    precision_scores.append(precision)\n",
        "    recall_scores.append(recall)\n",
        "    f1_scores.append(f1)\n",
        "\n",
        "# Calculate average scores\n",
        "avg_accuracy = np.mean(accuracy_scores)\n",
        "avg_precision = np.mean(precision_scores)\n",
        "avg_recall = np.mean(recall_scores)\n",
        "avg_f1 = np.mean(f1_scores)\n",
        "\n",
        "# Print average scores\n",
        "print(\"Average Accuracy:\", avg_accuracy)\n",
        "print(\"Average Precision:\", avg_precision)\n",
        "print(\"Average Recall:\", avg_recall)\n",
        "print(\"Average F1-score:\", avg_f1)\n"
      ],
      "metadata": {
        "id": "TCfkuYSvUw1J"
      },
      "execution_count": null,
      "outputs": []
    },
    {
      "cell_type": "code",
      "source": [
        "# Step 4: Average performance\n",
        "average_performance = np.mean(accuracy_scores)\n",
        "\n",
        "print(\"Average Accuracy:\", average_performance)"
      ],
      "metadata": {
        "id": "d6nHBpFHU4hA"
      },
      "execution_count": null,
      "outputs": []
    },
    {
      "cell_type": "markdown",
      "source": [
        "#Tria project on MNIST dataset"
      ],
      "metadata": {
        "id": "bKa81tS6LCPV"
      }
    },
    {
      "cell_type": "code",
      "source": [
        "from sklearn.datasets import fetch_openml\n",
        "\n",
        "# Load MNIST dataset\n",
        "mnist = fetch_openml('mnist_784')\n",
        "X = mnist.data\n",
        "y = mnist.target.astype(int)\n"
      ],
      "metadata": {
        "colab": {
          "base_uri": "https://localhost:8080/"
        },
        "id": "anHUXQFTK_-f",
        "outputId": "6b594b36-cd62-48fe-d0ea-abe75c1a330c"
      },
      "execution_count": null,
      "outputs": [
        {
          "output_type": "stream",
          "name": "stderr",
          "text": [
            "/usr/local/lib/python3.10/dist-packages/sklearn/datasets/_openml.py:968: FutureWarning: The default value of `parser` will change from `'liac-arff'` to `'auto'` in 1.4. You can set `parser='auto'` to silence this warning. Therefore, an `ImportError` will be raised from 1.4 if the dataset is dense and pandas is not installed. Note that the pandas parser may return different data types. See the Notes Section in fetch_openml's API doc for details.\n",
            "  warn(\n"
          ]
        }
      ]
    },
    {
      "cell_type": "code",
      "source": [
        "print(\"Number of samples:\", X.shape[0])\n",
        "print(\"Number of features:\", X.shape[1])\n"
      ],
      "metadata": {
        "id": "MVFptngBLXY-"
      },
      "execution_count": null,
      "outputs": []
    },
    {
      "cell_type": "markdown",
      "source": [
        "# Breat Cancer Dataset"
      ],
      "metadata": {
        "id": "IUEFoBAiSeoy"
      }
    },
    {
      "cell_type": "code",
      "source": [
        "from sklearn.datasets import load_breast_cancer\n",
        "from sklearn.model_selection import train_test_split\n",
        "from sklearn.feature_selection import SelectKBest, chi2, RFE\n",
        "from sklearn.ensemble import RandomForestClassifier\n",
        "from sklearn.metrics import accuracy_score"
      ],
      "metadata": {
        "id": "JavaWxLzSdT_"
      },
      "execution_count": null,
      "outputs": []
    },
    {
      "cell_type": "code",
      "source": [
        "# Step 1: Load the Breast Cancer dataset\n",
        "cancer = load_breast_cancer()\n",
        "X = cancer.data\n",
        "y = cancer.target"
      ],
      "metadata": {
        "id": "o-XkxGV3Si0U"
      },
      "execution_count": null,
      "outputs": []
    },
    {
      "cell_type": "code",
      "source": [
        "# Step 2: Exploratory Data Analysis\n",
        "print(\"Feature Names:\", cancer.feature_names)\n",
        "print(\"Target Names:\", cancer.target_names)\n",
        "print(\"Number of samples:\", X.shape[0])\n",
        "print(\"Number of features:\", X.shape[1])"
      ],
      "metadata": {
        "id": "FKgLGbJHSl4z"
      },
      "execution_count": null,
      "outputs": []
    },
    {
      "cell_type": "code",
      "source": [
        "# Step 3: Feature Selection\n",
        "# Split data into training and testing sets\n",
        "X_train, X_test, y_train, y_test = train_test_split(X, y, test_size=0.2, random_state=42)\n",
        "\n",
        "# Feature Selection Technique 1: SelectKBest with chi2\n",
        "k_best = SelectKBest(score_func=chi2, k=10)\n",
        "X_train_kbest = k_best.fit_transform(X_train, y_train)\n",
        "selected_features_kbest = [cancer.feature_names[i] for i in k_best.get_support(indices=True)]\n",
        "\n",
        "# Feature Selection Technique 2: Recursive Feature Elimination (RFE) with Random Forest\n",
        "rf_classifier = RandomForestClassifier()\n",
        "rfe = RFE(estimator=rf_classifier, n_features_to_select=10, step=1)\n",
        "X_train_rfe = rfe.fit_transform(X_train, y_train)\n",
        "selected_features_rfe = [cancer.feature_names[i] for i in rfe.get_support(indices=True)]\n"
      ],
      "metadata": {
        "id": "60vlli2NSpdU"
      },
      "execution_count": null,
      "outputs": []
    },
    {
      "cell_type": "code",
      "source": [
        "# Step 4: Train a classifier using the selected features\n",
        "# Train classifiers using selected features\n",
        "rf_classifier_selected_features_kbest = RandomForestClassifier()\n",
        "rf_classifier_selected_features_rfe = RandomForestClassifier()\n",
        "\n",
        "# Train with selected features using SelectKBest\n",
        "rf_classifier_selected_features_kbest.fit(X_train_kbest, y_train)\n",
        "\n",
        "# Train with selected features using RFE\n",
        "rf_classifier_selected_features_rfe.fit(X_train_rfe, y_train)"
      ],
      "metadata": {
        "colab": {
          "base_uri": "https://localhost:8080/",
          "height": 74
        },
        "id": "hHLmgXcWSv_w",
        "outputId": "c7f54e2f-e43e-40bd-aab2-13a334f6f754"
      },
      "execution_count": null,
      "outputs": [
        {
          "output_type": "execute_result",
          "data": {
            "text/plain": [
              "RandomForestClassifier()"
            ],
            "text/html": [
              "<style>#sk-container-id-3 {color: black;background-color: white;}#sk-container-id-3 pre{padding: 0;}#sk-container-id-3 div.sk-toggleable {background-color: white;}#sk-container-id-3 label.sk-toggleable__label {cursor: pointer;display: block;width: 100%;margin-bottom: 0;padding: 0.3em;box-sizing: border-box;text-align: center;}#sk-container-id-3 label.sk-toggleable__label-arrow:before {content: \"▸\";float: left;margin-right: 0.25em;color: #696969;}#sk-container-id-3 label.sk-toggleable__label-arrow:hover:before {color: black;}#sk-container-id-3 div.sk-estimator:hover label.sk-toggleable__label-arrow:before {color: black;}#sk-container-id-3 div.sk-toggleable__content {max-height: 0;max-width: 0;overflow: hidden;text-align: left;background-color: #f0f8ff;}#sk-container-id-3 div.sk-toggleable__content pre {margin: 0.2em;color: black;border-radius: 0.25em;background-color: #f0f8ff;}#sk-container-id-3 input.sk-toggleable__control:checked~div.sk-toggleable__content {max-height: 200px;max-width: 100%;overflow: auto;}#sk-container-id-3 input.sk-toggleable__control:checked~label.sk-toggleable__label-arrow:before {content: \"▾\";}#sk-container-id-3 div.sk-estimator input.sk-toggleable__control:checked~label.sk-toggleable__label {background-color: #d4ebff;}#sk-container-id-3 div.sk-label input.sk-toggleable__control:checked~label.sk-toggleable__label {background-color: #d4ebff;}#sk-container-id-3 input.sk-hidden--visually {border: 0;clip: rect(1px 1px 1px 1px);clip: rect(1px, 1px, 1px, 1px);height: 1px;margin: -1px;overflow: hidden;padding: 0;position: absolute;width: 1px;}#sk-container-id-3 div.sk-estimator {font-family: monospace;background-color: #f0f8ff;border: 1px dotted black;border-radius: 0.25em;box-sizing: border-box;margin-bottom: 0.5em;}#sk-container-id-3 div.sk-estimator:hover {background-color: #d4ebff;}#sk-container-id-3 div.sk-parallel-item::after {content: \"\";width: 100%;border-bottom: 1px solid gray;flex-grow: 1;}#sk-container-id-3 div.sk-label:hover label.sk-toggleable__label {background-color: #d4ebff;}#sk-container-id-3 div.sk-serial::before {content: \"\";position: absolute;border-left: 1px solid gray;box-sizing: border-box;top: 0;bottom: 0;left: 50%;z-index: 0;}#sk-container-id-3 div.sk-serial {display: flex;flex-direction: column;align-items: center;background-color: white;padding-right: 0.2em;padding-left: 0.2em;position: relative;}#sk-container-id-3 div.sk-item {position: relative;z-index: 1;}#sk-container-id-3 div.sk-parallel {display: flex;align-items: stretch;justify-content: center;background-color: white;position: relative;}#sk-container-id-3 div.sk-item::before, #sk-container-id-3 div.sk-parallel-item::before {content: \"\";position: absolute;border-left: 1px solid gray;box-sizing: border-box;top: 0;bottom: 0;left: 50%;z-index: -1;}#sk-container-id-3 div.sk-parallel-item {display: flex;flex-direction: column;z-index: 1;position: relative;background-color: white;}#sk-container-id-3 div.sk-parallel-item:first-child::after {align-self: flex-end;width: 50%;}#sk-container-id-3 div.sk-parallel-item:last-child::after {align-self: flex-start;width: 50%;}#sk-container-id-3 div.sk-parallel-item:only-child::after {width: 0;}#sk-container-id-3 div.sk-dashed-wrapped {border: 1px dashed gray;margin: 0 0.4em 0.5em 0.4em;box-sizing: border-box;padding-bottom: 0.4em;background-color: white;}#sk-container-id-3 div.sk-label label {font-family: monospace;font-weight: bold;display: inline-block;line-height: 1.2em;}#sk-container-id-3 div.sk-label-container {text-align: center;}#sk-container-id-3 div.sk-container {/* jupyter's `normalize.less` sets `[hidden] { display: none; }` but bootstrap.min.css set `[hidden] { display: none !important; }` so we also need the `!important` here to be able to override the default hidden behavior on the sphinx rendered scikit-learn.org. See: https://github.com/scikit-learn/scikit-learn/issues/21755 */display: inline-block !important;position: relative;}#sk-container-id-3 div.sk-text-repr-fallback {display: none;}</style><div id=\"sk-container-id-3\" class=\"sk-top-container\"><div class=\"sk-text-repr-fallback\"><pre>RandomForestClassifier()</pre><b>In a Jupyter environment, please rerun this cell to show the HTML representation or trust the notebook. <br />On GitHub, the HTML representation is unable to render, please try loading this page with nbviewer.org.</b></div><div class=\"sk-container\" hidden><div class=\"sk-item\"><div class=\"sk-estimator sk-toggleable\"><input class=\"sk-toggleable__control sk-hidden--visually\" id=\"sk-estimator-id-3\" type=\"checkbox\" checked><label for=\"sk-estimator-id-3\" class=\"sk-toggleable__label sk-toggleable__label-arrow\">RandomForestClassifier</label><div class=\"sk-toggleable__content\"><pre>RandomForestClassifier()</pre></div></div></div></div></div>"
            ]
          },
          "metadata": {},
          "execution_count": 54
        }
      ]
    },
    {
      "cell_type": "code",
      "source": [
        "# Step 5: Evaluate the performance of the model\n",
        "# Transform test set using selected features\n",
        "X_test_kbest = k_best.transform(X_test)\n",
        "X_test_rfe = rfe.transform(X_test)\n",
        "\n",
        "# Predictions using models with selected features\n",
        "y_pred_kbest = rf_classifier_selected_features_kbest.predict(X_test_kbest)\n",
        "accuracy_kbest = accuracy_score(y_test, y_pred_kbest)\n",
        "\n",
        "y_pred_rfe = rf_classifier_selected_features_rfe.predict(X_test_rfe)\n",
        "accuracy_rfe = accuracy_score(y_test, y_pred_rfe)"
      ],
      "metadata": {
        "id": "ngBrXDNaS1qe"
      },
      "execution_count": null,
      "outputs": []
    },
    {
      "cell_type": "code",
      "source": [
        "# Step 6: Compare the performance\n",
        "print(\"Selected features using SelectKBest:\", selected_features_kbest)\n",
        "print(\"Accuracy with selected features using SelectKBest:\", accuracy_kbest)\n",
        "print(\"Selected features using RFE:\", selected_features_rfe)\n",
        "print(\"Accuracy with selected features using RFE:\", accuracy_rfe)"
      ],
      "metadata": {
        "colab": {
          "base_uri": "https://localhost:8080/"
        },
        "id": "s0sm5SoVS5YI",
        "outputId": "cfcf189f-a7cd-4435-bbd4-e6514cd9077d"
      },
      "execution_count": null,
      "outputs": [
        {
          "output_type": "stream",
          "name": "stdout",
          "text": [
            "Selected features using SelectKBest: ['mean radius', 'mean texture', 'mean perimeter', 'mean area', 'perimeter error', 'area error', 'worst radius', 'worst texture', 'worst perimeter', 'worst area']\n",
            "Accuracy with selected features using SelectKBest: 0.9473684210526315\n",
            "Selected features using RFE: ['mean radius', 'mean texture', 'mean area', 'mean concavity', 'mean concave points', 'worst radius', 'worst perimeter', 'worst area', 'worst concave points', 'worst symmetry']\n",
            "Accuracy with selected features using RFE: 0.956140350877193\n"
          ]
        }
      ]
    },
    {
      "cell_type": "code",
      "source": [
        "import matplotlib.pyplot as plt\n",
        "\n",
        "# Accuracy scores for each technique\n",
        "accuracy_scores = [accuracy_kbest, accuracy_rfe]\n",
        "\n",
        "# Techniques used\n",
        "techniques = ['SelectKBest', 'RFE']\n",
        "\n",
        "# Plotting the bar plot\n",
        "plt.figure(figsize=(8, 6))\n",
        "plt.bar(techniques, accuracy_scores, color=['blue', 'green'])\n",
        "plt.xlabel('Feature Selection Technique')\n",
        "plt.ylabel('Accuracy')\n",
        "plt.title('Performance Comparison of Feature Selection Techniques')\n",
        "plt.ylim(0.9, 1)  # Set y-axis limit for better visualization\n",
        "plt.show()\n"
      ],
      "metadata": {
        "colab": {
          "base_uri": "https://localhost:8080/",
          "height": 564
        },
        "id": "kkAAvwV7S9cq",
        "outputId": "f1ea27ab-be39-42a7-df62-767beacf72a2"
      },
      "execution_count": null,
      "outputs": [
        {
          "output_type": "display_data",
          "data": {
            "text/plain": [
              "<Figure size 800x600 with 1 Axes>"
            ],
            "image/png": "[encoded data removed]"
          },
          "metadata": {}
        }
      ]
    }
  ]
}