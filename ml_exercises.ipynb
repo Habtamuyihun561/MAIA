{
  "nbformat": 4,
  "nbformat_minor": 0,
  "metadata": {
    "colab": {
      "provenance": [],
      "mount_file_id": "1UubbkpWb6POXwLo0XJZH89YjT_T8sOAa",
      "authorship_tag": "ABX9TyNVapDqDzyQ3z3G9wZMuuQo",
      "include_colab_link": true
    },
    "kernelspec": {
      "name": "python3",
      "display_name": "Python 3"
    },
    "language_info": {
      "name": "python"
    }
  },
  "cells": [
    {
      "cell_type": "markdown",
      "metadata": {
        "id": "view-in-github",
        "colab_type": "text"
      },
      "source": [
        "<a href=\"https://colab.research.google.com/github/Habtamuyihun561/MAIA/blob/main/ml_exercises.ipynb\" target=\"_parent\"><img src=\"https://colab.research.google.com/assets/colab-badge.svg\" alt=\"Open In Colab\"/></a>"
      ]
    },
    {
      "cell_type": "code",
      "execution_count": null,
      "metadata": {
        "id": "nz6EnBBEDg02"
      },
      "outputs": [],
      "source": []
    }
  ]
}